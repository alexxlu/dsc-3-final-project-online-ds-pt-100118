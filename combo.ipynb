{
 "cells": [
  {
   "cell_type": "markdown",
   "metadata": {},
   "source": [
    "Background: Company X had created an app with energy report dashboard, energy breakdown etc for the domestic utility industry. Utility company Y had given it a trial among its customer base for a duration of 9months. The app has 10 screens: Activate, Breakdown, Challenge, Energy_History, Energy_Reports, Feed, Forgot_password, Other, Settings, Trend.\n",
    "\n",
    "Data: Each month there are different cohort of customer signed up for the app. We have a monthly app usage time by screens for each consumerID. (ie. consumer A accessed and stayed on 'Activation' screen for 3seconds, 'Energy Report' screen for 1minute etc.) There are 5286 uniqe customer ID * 10 columns screen usage time for each month (for 9 months) in the raw data. Albeit the users started using the app at different starting month.\n",
    "\n",
    "Problem: We would like to find out if we can build a model predicting an user will be active or inactive based on previous month screen usage breakdown.\n"
   ]
  },
  {
   "cell_type": "code",
   "execution_count": 13,
   "metadata": {},
   "outputs": [],
   "source": [
    "import pandas as pd\n",
    "from sklearn.linear_model import LogisticRegression\n",
    "from sklearn.model_selection import train_test_split, GridSearchCV, cross_val_score\n"
   ]
  },
  {
   "cell_type": "code",
   "execution_count": 77,
   "metadata": {},
   "outputs": [],
   "source": [
    "\n",
    "\n",
    "def df_format(df):\n",
    "    '''\n",
    "    Formatting the data: 1) set ID as index column, drop blanks, column naming convention\n",
    "    2) define active usage of the app: if an user accessed any screen more than 3 seconds on given any month (other than \n",
    "    Setting, forgetting passwords or activation page)\n",
    "\n",
    "    '''\n",
    "    df.rename(columns={ df.columns[0]: \"ID\" }, inplace=True)\n",
    "    df.set_index('ID',inplace=True)\n",
    "    df.columns=df.columns.str.replace(\" \",\"_\")\n",
    "    df[df.select_dtypes(include=['number']).columns] *= (24*60)\n",
    "    try:\n",
    "        df['total-pw-setting']=(df['Grand_Total']-df['Forgot_password']-df['Settings']-df['Activate'])\n",
    "        df['Target']=df['total-pw-setting'].apply(lambda x: 0 if x<3 else 1)\n",
    "        df.drop(['(blank)','Grand_Total'], axis=1, inplace=True)\n",
    "    except KeyError:\n",
    "        return \n",
    "    "
   ]
  },
  {
   "cell_type": "code",
   "execution_count": 15,
   "metadata": {},
   "outputs": [],
   "source": [
    "\n",
    "#Extract Data \n",
    "\n",
    "May18=pd.read_excel('May18.xlsx')\n",
    "Jun18=pd.read_excel('Jun18.xlsx')\n",
    "Jul18=pd.read_excel('Jul18.xlsx')\n",
    "Aug18=pd.read_excel('Aug18.xlsx')\n",
    "Sep18=pd.read_excel('Sep18.xlsx')\n",
    "Oct18=pd.read_excel('Oct18.xlsx')\n",
    "Nov18=pd.read_excel('Nov18.xlsx')\n",
    "Dec18=pd.read_excel('Dec18.xlsx')\n",
    "Jan19=pd.read_excel('Jan19.xlsx')\n",
    "Feb19=pd.read_excel('Feb19.xlsx')\n",
    "Mar19=pd.read_excel('Mar19.xlsx')\n",
    "\n"
   ]
  },
  {
   "cell_type": "code",
   "execution_count": 16,
   "metadata": {},
   "outputs": [
    {
     "data": {
      "text/html": [
       "<div>\n",
       "<style scoped>\n",
       "    .dataframe tbody tr th:only-of-type {\n",
       "        vertical-align: middle;\n",
       "    }\n",
       "\n",
       "    .dataframe tbody tr th {\n",
       "        vertical-align: top;\n",
       "    }\n",
       "\n",
       "    .dataframe thead th {\n",
       "        text-align: right;\n",
       "    }\n",
       "</style>\n",
       "<table border=\"1\" class=\"dataframe\">\n",
       "  <thead>\n",
       "    <tr style=\"text-align: right;\">\n",
       "      <th></th>\n",
       "      <th>Activate</th>\n",
       "      <th>Breakdown</th>\n",
       "      <th>Challenge</th>\n",
       "      <th>Energy History</th>\n",
       "      <th>Energy Reports</th>\n",
       "      <th>Feed</th>\n",
       "      <th>Forgot password</th>\n",
       "      <th>Other</th>\n",
       "      <th>Settings</th>\n",
       "      <th>Trend</th>\n",
       "      <th>(blank)</th>\n",
       "      <th>Grand Total</th>\n",
       "    </tr>\n",
       "  </thead>\n",
       "  <tbody>\n",
       "    <tr>\n",
       "      <th>count</th>\n",
       "      <td>491.000000</td>\n",
       "      <td>491.000000</td>\n",
       "      <td>491.000000</td>\n",
       "      <td>491.000000</td>\n",
       "      <td>491.000000</td>\n",
       "      <td>491.000000</td>\n",
       "      <td>491.000000</td>\n",
       "      <td>491.000000</td>\n",
       "      <td>491.000000</td>\n",
       "      <td>491.000000</td>\n",
       "      <td>491.0</td>\n",
       "      <td>491.000000</td>\n",
       "    </tr>\n",
       "    <tr>\n",
       "      <th>mean</th>\n",
       "      <td>0.000017</td>\n",
       "      <td>0.000681</td>\n",
       "      <td>0.000178</td>\n",
       "      <td>0.001194</td>\n",
       "      <td>0.000770</td>\n",
       "      <td>0.000444</td>\n",
       "      <td>0.000041</td>\n",
       "      <td>0.000026</td>\n",
       "      <td>0.001120</td>\n",
       "      <td>0.001192</td>\n",
       "      <td>0.0</td>\n",
       "      <td>0.005662</td>\n",
       "    </tr>\n",
       "    <tr>\n",
       "      <th>std</th>\n",
       "      <td>0.000091</td>\n",
       "      <td>0.001370</td>\n",
       "      <td>0.000598</td>\n",
       "      <td>0.002506</td>\n",
       "      <td>0.001464</td>\n",
       "      <td>0.000648</td>\n",
       "      <td>0.000174</td>\n",
       "      <td>0.000144</td>\n",
       "      <td>0.001659</td>\n",
       "      <td>0.002730</td>\n",
       "      <td>0.0</td>\n",
       "      <td>0.007423</td>\n",
       "    </tr>\n",
       "    <tr>\n",
       "      <th>min</th>\n",
       "      <td>0.000000</td>\n",
       "      <td>0.000000</td>\n",
       "      <td>0.000000</td>\n",
       "      <td>0.000000</td>\n",
       "      <td>0.000000</td>\n",
       "      <td>0.000000</td>\n",
       "      <td>0.000000</td>\n",
       "      <td>0.000000</td>\n",
       "      <td>0.000000</td>\n",
       "      <td>0.000000</td>\n",
       "      <td>0.0</td>\n",
       "      <td>0.000000</td>\n",
       "    </tr>\n",
       "    <tr>\n",
       "      <th>25%</th>\n",
       "      <td>0.000000</td>\n",
       "      <td>0.000000</td>\n",
       "      <td>0.000000</td>\n",
       "      <td>0.000000</td>\n",
       "      <td>0.000000</td>\n",
       "      <td>0.000003</td>\n",
       "      <td>0.000000</td>\n",
       "      <td>0.000000</td>\n",
       "      <td>0.000000</td>\n",
       "      <td>0.000069</td>\n",
       "      <td>0.0</td>\n",
       "      <td>0.001122</td>\n",
       "    </tr>\n",
       "    <tr>\n",
       "      <th>50%</th>\n",
       "      <td>0.000000</td>\n",
       "      <td>0.000156</td>\n",
       "      <td>0.000000</td>\n",
       "      <td>0.000283</td>\n",
       "      <td>0.000301</td>\n",
       "      <td>0.000254</td>\n",
       "      <td>0.000000</td>\n",
       "      <td>0.000000</td>\n",
       "      <td>0.000217</td>\n",
       "      <td>0.000355</td>\n",
       "      <td>0.0</td>\n",
       "      <td>0.003459</td>\n",
       "    </tr>\n",
       "    <tr>\n",
       "      <th>75%</th>\n",
       "      <td>0.000000</td>\n",
       "      <td>0.000702</td>\n",
       "      <td>0.000113</td>\n",
       "      <td>0.001225</td>\n",
       "      <td>0.000906</td>\n",
       "      <td>0.000624</td>\n",
       "      <td>0.000000</td>\n",
       "      <td>0.000000</td>\n",
       "      <td>0.001928</td>\n",
       "      <td>0.001030</td>\n",
       "      <td>0.0</td>\n",
       "      <td>0.007099</td>\n",
       "    </tr>\n",
       "    <tr>\n",
       "      <th>max</th>\n",
       "      <td>0.001200</td>\n",
       "      <td>0.011771</td>\n",
       "      <td>0.008384</td>\n",
       "      <td>0.025933</td>\n",
       "      <td>0.016124</td>\n",
       "      <td>0.005866</td>\n",
       "      <td>0.002003</td>\n",
       "      <td>0.001777</td>\n",
       "      <td>0.009308</td>\n",
       "      <td>0.027479</td>\n",
       "      <td>0.0</td>\n",
       "      <td>0.057409</td>\n",
       "    </tr>\n",
       "  </tbody>\n",
       "</table>\n",
       "</div>"
      ],
      "text/plain": [
       "         Activate   Breakdown   Challenge  Energy History  Energy Reports  \\\n",
       "count  491.000000  491.000000  491.000000      491.000000      491.000000   \n",
       "mean     0.000017    0.000681    0.000178        0.001194        0.000770   \n",
       "std      0.000091    0.001370    0.000598        0.002506        0.001464   \n",
       "min      0.000000    0.000000    0.000000        0.000000        0.000000   \n",
       "25%      0.000000    0.000000    0.000000        0.000000        0.000000   \n",
       "50%      0.000000    0.000156    0.000000        0.000283        0.000301   \n",
       "75%      0.000000    0.000702    0.000113        0.001225        0.000906   \n",
       "max      0.001200    0.011771    0.008384        0.025933        0.016124   \n",
       "\n",
       "             Feed  Forgot password       Other    Settings       Trend  \\\n",
       "count  491.000000       491.000000  491.000000  491.000000  491.000000   \n",
       "mean     0.000444         0.000041    0.000026    0.001120    0.001192   \n",
       "std      0.000648         0.000174    0.000144    0.001659    0.002730   \n",
       "min      0.000000         0.000000    0.000000    0.000000    0.000000   \n",
       "25%      0.000003         0.000000    0.000000    0.000000    0.000069   \n",
       "50%      0.000254         0.000000    0.000000    0.000217    0.000355   \n",
       "75%      0.000624         0.000000    0.000000    0.001928    0.001030   \n",
       "max      0.005866         0.002003    0.001777    0.009308    0.027479   \n",
       "\n",
       "       (blank)  Grand Total  \n",
       "count    491.0   491.000000  \n",
       "mean       0.0     0.005662  \n",
       "std        0.0     0.007423  \n",
       "min        0.0     0.000000  \n",
       "25%        0.0     0.001122  \n",
       "50%        0.0     0.003459  \n",
       "75%        0.0     0.007099  \n",
       "max        0.0     0.057409  "
      ]
     },
     "execution_count": 16,
     "metadata": {},
     "output_type": "execute_result"
    }
   ],
   "source": [
    "May18.describe()"
   ]
  },
  {
   "cell_type": "markdown",
   "metadata": {},
   "source": [
    "Re-format"
   ]
  },
  {
   "cell_type": "code",
   "execution_count": 17,
   "metadata": {},
   "outputs": [],
   "source": [
    "\n",
    "df_format(May18)\n",
    "df_format(Jun18)\n",
    "df_format(Jul18)\n",
    "df_format(Aug18)\n",
    "df_format(Sep18)\n",
    "df_format(Oct18)\n",
    "df_format(Nov18)\n",
    "df_format(Dec18)\n",
    "df_format(Jan19)\n",
    "df_format(Feb19)\n",
    "df_format(Mar19)\n"
   ]
  },
  {
   "cell_type": "code",
   "execution_count": 18,
   "metadata": {},
   "outputs": [
    {
     "data": {
      "text/html": [
       "<div>\n",
       "<style scoped>\n",
       "    .dataframe tbody tr th:only-of-type {\n",
       "        vertical-align: middle;\n",
       "    }\n",
       "\n",
       "    .dataframe tbody tr th {\n",
       "        vertical-align: top;\n",
       "    }\n",
       "\n",
       "    .dataframe thead th {\n",
       "        text-align: right;\n",
       "    }\n",
       "</style>\n",
       "<table border=\"1\" class=\"dataframe\">\n",
       "  <thead>\n",
       "    <tr style=\"text-align: right;\">\n",
       "      <th></th>\n",
       "      <th>Activate</th>\n",
       "      <th>Breakdown</th>\n",
       "      <th>Challenge</th>\n",
       "      <th>Energy_History</th>\n",
       "      <th>Energy_Reports</th>\n",
       "      <th>Feed</th>\n",
       "      <th>Forgot_password</th>\n",
       "      <th>Other</th>\n",
       "      <th>Settings</th>\n",
       "      <th>Trend</th>\n",
       "      <th>total-pw-setting</th>\n",
       "      <th>Target</th>\n",
       "    </tr>\n",
       "  </thead>\n",
       "  <tbody>\n",
       "    <tr>\n",
       "      <th>count</th>\n",
       "      <td>491.000000</td>\n",
       "      <td>491.000000</td>\n",
       "      <td>491.000000</td>\n",
       "      <td>491.000000</td>\n",
       "      <td>491.000000</td>\n",
       "      <td>491.000000</td>\n",
       "      <td>491.000000</td>\n",
       "      <td>491.000000</td>\n",
       "      <td>491.000000</td>\n",
       "      <td>491.000000</td>\n",
       "      <td>491.000000</td>\n",
       "      <td>491.000000</td>\n",
       "    </tr>\n",
       "    <tr>\n",
       "      <th>mean</th>\n",
       "      <td>0.024967</td>\n",
       "      <td>0.981199</td>\n",
       "      <td>0.256289</td>\n",
       "      <td>1.719028</td>\n",
       "      <td>1.108702</td>\n",
       "      <td>0.639526</td>\n",
       "      <td>0.058336</td>\n",
       "      <td>0.036842</td>\n",
       "      <td>1.612881</td>\n",
       "      <td>1.715928</td>\n",
       "      <td>6.457513</td>\n",
       "      <td>0.484725</td>\n",
       "    </tr>\n",
       "    <tr>\n",
       "      <th>std</th>\n",
       "      <td>0.131005</td>\n",
       "      <td>1.972921</td>\n",
       "      <td>0.860522</td>\n",
       "      <td>3.609056</td>\n",
       "      <td>2.108185</td>\n",
       "      <td>0.932689</td>\n",
       "      <td>0.250584</td>\n",
       "      <td>0.207869</td>\n",
       "      <td>2.388561</td>\n",
       "      <td>3.930851</td>\n",
       "      <td>9.744339</td>\n",
       "      <td>0.500276</td>\n",
       "    </tr>\n",
       "    <tr>\n",
       "      <th>min</th>\n",
       "      <td>0.000000</td>\n",
       "      <td>0.000000</td>\n",
       "      <td>0.000000</td>\n",
       "      <td>0.000000</td>\n",
       "      <td>0.000000</td>\n",
       "      <td>0.000000</td>\n",
       "      <td>0.000000</td>\n",
       "      <td>0.000000</td>\n",
       "      <td>0.000000</td>\n",
       "      <td>0.000000</td>\n",
       "      <td>0.000000</td>\n",
       "      <td>0.000000</td>\n",
       "    </tr>\n",
       "    <tr>\n",
       "      <th>25%</th>\n",
       "      <td>0.000000</td>\n",
       "      <td>0.000000</td>\n",
       "      <td>0.000000</td>\n",
       "      <td>0.000000</td>\n",
       "      <td>0.000000</td>\n",
       "      <td>0.004800</td>\n",
       "      <td>0.000000</td>\n",
       "      <td>0.000000</td>\n",
       "      <td>0.000000</td>\n",
       "      <td>0.098917</td>\n",
       "      <td>1.075225</td>\n",
       "      <td>0.000000</td>\n",
       "    </tr>\n",
       "    <tr>\n",
       "      <th>50%</th>\n",
       "      <td>0.000000</td>\n",
       "      <td>0.225150</td>\n",
       "      <td>0.000000</td>\n",
       "      <td>0.407750</td>\n",
       "      <td>0.433117</td>\n",
       "      <td>0.365917</td>\n",
       "      <td>0.000000</td>\n",
       "      <td>0.000000</td>\n",
       "      <td>0.312950</td>\n",
       "      <td>0.511433</td>\n",
       "      <td>2.846783</td>\n",
       "      <td>0.000000</td>\n",
       "    </tr>\n",
       "    <tr>\n",
       "      <th>75%</th>\n",
       "      <td>0.000000</td>\n",
       "      <td>1.010400</td>\n",
       "      <td>0.163258</td>\n",
       "      <td>1.764617</td>\n",
       "      <td>1.304875</td>\n",
       "      <td>0.897900</td>\n",
       "      <td>0.000000</td>\n",
       "      <td>0.000000</td>\n",
       "      <td>2.776033</td>\n",
       "      <td>1.483225</td>\n",
       "      <td>7.562450</td>\n",
       "      <td>1.000000</td>\n",
       "    </tr>\n",
       "    <tr>\n",
       "      <th>max</th>\n",
       "      <td>1.727317</td>\n",
       "      <td>16.950950</td>\n",
       "      <td>12.073300</td>\n",
       "      <td>37.342950</td>\n",
       "      <td>23.217867</td>\n",
       "      <td>8.447083</td>\n",
       "      <td>2.883783</td>\n",
       "      <td>2.559183</td>\n",
       "      <td>13.404100</td>\n",
       "      <td>39.569517</td>\n",
       "      <td>74.173183</td>\n",
       "      <td>1.000000</td>\n",
       "    </tr>\n",
       "  </tbody>\n",
       "</table>\n",
       "</div>"
      ],
      "text/plain": [
       "         Activate   Breakdown   Challenge  Energy_History  Energy_Reports  \\\n",
       "count  491.000000  491.000000  491.000000      491.000000      491.000000   \n",
       "mean     0.024967    0.981199    0.256289        1.719028        1.108702   \n",
       "std      0.131005    1.972921    0.860522        3.609056        2.108185   \n",
       "min      0.000000    0.000000    0.000000        0.000000        0.000000   \n",
       "25%      0.000000    0.000000    0.000000        0.000000        0.000000   \n",
       "50%      0.000000    0.225150    0.000000        0.407750        0.433117   \n",
       "75%      0.000000    1.010400    0.163258        1.764617        1.304875   \n",
       "max      1.727317   16.950950   12.073300       37.342950       23.217867   \n",
       "\n",
       "             Feed  Forgot_password       Other    Settings       Trend  \\\n",
       "count  491.000000       491.000000  491.000000  491.000000  491.000000   \n",
       "mean     0.639526         0.058336    0.036842    1.612881    1.715928   \n",
       "std      0.932689         0.250584    0.207869    2.388561    3.930851   \n",
       "min      0.000000         0.000000    0.000000    0.000000    0.000000   \n",
       "25%      0.004800         0.000000    0.000000    0.000000    0.098917   \n",
       "50%      0.365917         0.000000    0.000000    0.312950    0.511433   \n",
       "75%      0.897900         0.000000    0.000000    2.776033    1.483225   \n",
       "max      8.447083         2.883783    2.559183   13.404100   39.569517   \n",
       "\n",
       "       total-pw-setting      Target  \n",
       "count        491.000000  491.000000  \n",
       "mean           6.457513    0.484725  \n",
       "std            9.744339    0.500276  \n",
       "min            0.000000    0.000000  \n",
       "25%            1.075225    0.000000  \n",
       "50%            2.846783    0.000000  \n",
       "75%            7.562450    1.000000  \n",
       "max           74.173183    1.000000  "
      ]
     },
     "execution_count": 18,
     "metadata": {},
     "output_type": "execute_result"
    }
   ],
   "source": [
    "May18.describe()"
   ]
  },
  {
   "cell_type": "markdown",
   "metadata": {},
   "source": [
    "Merge data: combining app usage time from Month T and target outcome of active/inactive in month T+1."
   ]
  },
  {
   "cell_type": "code",
   "execution_count": 19,
   "metadata": {},
   "outputs": [
    {
     "data": {
      "text/html": [
       "<div>\n",
       "<style scoped>\n",
       "    .dataframe tbody tr th:only-of-type {\n",
       "        vertical-align: middle;\n",
       "    }\n",
       "\n",
       "    .dataframe tbody tr th {\n",
       "        vertical-align: top;\n",
       "    }\n",
       "\n",
       "    .dataframe thead th {\n",
       "        text-align: right;\n",
       "    }\n",
       "</style>\n",
       "<table border=\"1\" class=\"dataframe\">\n",
       "  <thead>\n",
       "    <tr style=\"text-align: right;\">\n",
       "      <th></th>\n",
       "      <th>Activate</th>\n",
       "      <th>Breakdown</th>\n",
       "      <th>Challenge</th>\n",
       "      <th>Energy_History</th>\n",
       "      <th>Energy_Reports</th>\n",
       "      <th>Feed</th>\n",
       "      <th>Forgot_password</th>\n",
       "      <th>Other</th>\n",
       "      <th>Settings</th>\n",
       "      <th>Trend</th>\n",
       "      <th>total-pw-setting</th>\n",
       "      <th>Target</th>\n",
       "      <th>Right_Now</th>\n",
       "      <th>Grand_Total</th>\n",
       "    </tr>\n",
       "  </thead>\n",
       "  <tbody>\n",
       "    <tr>\n",
       "      <th>count</th>\n",
       "      <td>21864.000000</td>\n",
       "      <td>21864.000000</td>\n",
       "      <td>21864.000000</td>\n",
       "      <td>21864.000000</td>\n",
       "      <td>21864.000000</td>\n",
       "      <td>21864.000000</td>\n",
       "      <td>21864.000000</td>\n",
       "      <td>21864.000000</td>\n",
       "      <td>21864.000000</td>\n",
       "      <td>21864.000000</td>\n",
       "      <td>982.000000</td>\n",
       "      <td>21864.000000</td>\n",
       "      <td>2216.000000</td>\n",
       "      <td>18666.000000</td>\n",
       "    </tr>\n",
       "    <tr>\n",
       "      <th>mean</th>\n",
       "      <td>0.001121</td>\n",
       "      <td>1.200974</td>\n",
       "      <td>0.229744</td>\n",
       "      <td>1.794978</td>\n",
       "      <td>1.178358</td>\n",
       "      <td>1.025101</td>\n",
       "      <td>0.002620</td>\n",
       "      <td>0.141309</td>\n",
       "      <td>1.341226</td>\n",
       "      <td>1.905681</td>\n",
       "      <td>6.457513</td>\n",
       "      <td>0.268798</td>\n",
       "      <td>0.000060</td>\n",
       "      <td>9.602953</td>\n",
       "    </tr>\n",
       "    <tr>\n",
       "      <th>std</th>\n",
       "      <td>0.028214</td>\n",
       "      <td>27.065985</td>\n",
       "      <td>4.588918</td>\n",
       "      <td>39.875377</td>\n",
       "      <td>27.764501</td>\n",
       "      <td>27.622096</td>\n",
       "      <td>0.054412</td>\n",
       "      <td>0.691615</td>\n",
       "      <td>19.561587</td>\n",
       "      <td>41.936254</td>\n",
       "      <td>9.739372</td>\n",
       "      <td>0.443345</td>\n",
       "      <td>0.002012</td>\n",
       "      <td>201.905110</td>\n",
       "    </tr>\n",
       "    <tr>\n",
       "      <th>min</th>\n",
       "      <td>0.000000</td>\n",
       "      <td>0.000000</td>\n",
       "      <td>0.000000</td>\n",
       "      <td>0.000000</td>\n",
       "      <td>0.000000</td>\n",
       "      <td>0.000000</td>\n",
       "      <td>0.000000</td>\n",
       "      <td>0.000000</td>\n",
       "      <td>0.000000</td>\n",
       "      <td>0.000000</td>\n",
       "      <td>0.000000</td>\n",
       "      <td>0.000000</td>\n",
       "      <td>0.000000</td>\n",
       "      <td>0.000000</td>\n",
       "    </tr>\n",
       "    <tr>\n",
       "      <th>25%</th>\n",
       "      <td>0.000000</td>\n",
       "      <td>0.000000</td>\n",
       "      <td>0.000000</td>\n",
       "      <td>0.000000</td>\n",
       "      <td>0.000000</td>\n",
       "      <td>0.001450</td>\n",
       "      <td>0.000000</td>\n",
       "      <td>0.000000</td>\n",
       "      <td>0.000000</td>\n",
       "      <td>0.000000</td>\n",
       "      <td>1.071254</td>\n",
       "      <td>0.000000</td>\n",
       "      <td>0.000000</td>\n",
       "      <td>0.918212</td>\n",
       "    </tr>\n",
       "    <tr>\n",
       "      <th>50%</th>\n",
       "      <td>0.000000</td>\n",
       "      <td>0.144933</td>\n",
       "      <td>0.000000</td>\n",
       "      <td>0.163792</td>\n",
       "      <td>0.142800</td>\n",
       "      <td>0.360567</td>\n",
       "      <td>0.000000</td>\n",
       "      <td>0.000000</td>\n",
       "      <td>0.068542</td>\n",
       "      <td>0.192958</td>\n",
       "      <td>2.846783</td>\n",
       "      <td>0.000000</td>\n",
       "      <td>0.000000</td>\n",
       "      <td>3.445733</td>\n",
       "    </tr>\n",
       "    <tr>\n",
       "      <th>75%</th>\n",
       "      <td>0.000000</td>\n",
       "      <td>0.949567</td>\n",
       "      <td>0.000000</td>\n",
       "      <td>1.185604</td>\n",
       "      <td>0.961742</td>\n",
       "      <td>0.914146</td>\n",
       "      <td>0.000000</td>\n",
       "      <td>0.000000</td>\n",
       "      <td>1.361312</td>\n",
       "      <td>1.095975</td>\n",
       "      <td>7.577050</td>\n",
       "      <td>1.000000</td>\n",
       "      <td>0.000000</td>\n",
       "      <td>8.192583</td>\n",
       "    </tr>\n",
       "    <tr>\n",
       "      <th>max</th>\n",
       "      <td>1.727317</td>\n",
       "      <td>2933.794167</td>\n",
       "      <td>530.075400</td>\n",
       "      <td>4256.898483</td>\n",
       "      <td>3047.709000</td>\n",
       "      <td>2832.671050</td>\n",
       "      <td>2.883783</td>\n",
       "      <td>18.245583</td>\n",
       "      <td>2485.562317</td>\n",
       "      <td>4608.315900</td>\n",
       "      <td>74.173183</td>\n",
       "      <td>1.000000</td>\n",
       "      <td>0.067000</td>\n",
       "      <td>20713.271900</td>\n",
       "    </tr>\n",
       "  </tbody>\n",
       "</table>\n",
       "</div>"
      ],
      "text/plain": [
       "           Activate     Breakdown     Challenge  Energy_History  \\\n",
       "count  21864.000000  21864.000000  21864.000000    21864.000000   \n",
       "mean       0.001121      1.200974      0.229744        1.794978   \n",
       "std        0.028214     27.065985      4.588918       39.875377   \n",
       "min        0.000000      0.000000      0.000000        0.000000   \n",
       "25%        0.000000      0.000000      0.000000        0.000000   \n",
       "50%        0.000000      0.144933      0.000000        0.163792   \n",
       "75%        0.000000      0.949567      0.000000        1.185604   \n",
       "max        1.727317   2933.794167    530.075400     4256.898483   \n",
       "\n",
       "       Energy_Reports          Feed  Forgot_password         Other  \\\n",
       "count    21864.000000  21864.000000     21864.000000  21864.000000   \n",
       "mean         1.178358      1.025101         0.002620      0.141309   \n",
       "std         27.764501     27.622096         0.054412      0.691615   \n",
       "min          0.000000      0.000000         0.000000      0.000000   \n",
       "25%          0.000000      0.001450         0.000000      0.000000   \n",
       "50%          0.142800      0.360567         0.000000      0.000000   \n",
       "75%          0.961742      0.914146         0.000000      0.000000   \n",
       "max       3047.709000   2832.671050         2.883783     18.245583   \n",
       "\n",
       "           Settings         Trend  total-pw-setting        Target  \\\n",
       "count  21864.000000  21864.000000        982.000000  21864.000000   \n",
       "mean       1.341226      1.905681          6.457513      0.268798   \n",
       "std       19.561587     41.936254          9.739372      0.443345   \n",
       "min        0.000000      0.000000          0.000000      0.000000   \n",
       "25%        0.000000      0.000000          1.071254      0.000000   \n",
       "50%        0.068542      0.192958          2.846783      0.000000   \n",
       "75%        1.361312      1.095975          7.577050      1.000000   \n",
       "max     2485.562317   4608.315900         74.173183      1.000000   \n",
       "\n",
       "         Right_Now   Grand_Total  \n",
       "count  2216.000000  18666.000000  \n",
       "mean      0.000060      9.602953  \n",
       "std       0.002012    201.905110  \n",
       "min       0.000000      0.000000  \n",
       "25%       0.000000      0.918212  \n",
       "50%       0.000000      3.445733  \n",
       "75%       0.000000      8.192583  \n",
       "max       0.067000  20713.271900  "
      ]
     },
     "execution_count": 19,
     "metadata": {},
     "output_type": "execute_result"
    }
   ],
   "source": [
    "df_target_Jun18=pd.merge(May18.iloc[:,0:11],Jun18.Target,left_index=True, right_index=True, how=\"left\")\n",
    "df_target_Jul18=pd.merge(Jun18.iloc[:,0:11],Jul18.Target,left_index=True, right_index=True, how=\"left\")\n",
    "df_target_Aug18=pd.merge(Jul18.iloc[:,0:11],Aug18.Target,left_index=True, right_index=True, how=\"left\")\n",
    "df_target_Sep18=pd.merge(Aug18.iloc[:,0:11],Sep18.Target,left_index=True, right_index=True, how=\"left\")\n",
    "df_target_Oct18=pd.merge(Sep18.iloc[:,0:11],Oct18.Target,left_index=True, right_index=True, how=\"left\")\n",
    "df_target_Nov18=pd.merge(Oct18.iloc[:,0:11],Nov18.Target,left_index=True, right_index=True, how=\"left\")\n",
    "df_target_Dec18=pd.merge(Nov18.iloc[:,0:11],Dec18.Target,left_index=True, right_index=True, how=\"left\")\n",
    "df_target_Jan19=pd.merge(Dec18.iloc[:,0:11],Jan19.Target,left_index=True, right_index=True, how=\"left\")\n",
    "df_target_Feb19=pd.merge(Jan19.iloc[:,0:11],Feb19.Target,left_index=True, right_index=True, how=\"left\")\n",
    "df_target_Mar19=pd.merge(Feb19.iloc[:,0:11],Mar19.Target,left_index=True, right_index=True, how=\"left\")\n",
    "\n",
    "df_comb=pd.DataFrame()\n",
    "df_comb=pd.concat([df_target_Jun18,\n",
    "                   df_target_Jul18,\n",
    "                   df_target_Aug18,\n",
    "                   df_target_Sep18,\n",
    "                   df_target_Jun18,\n",
    "                   df_target_Jul18,\n",
    "                   df_target_Aug18,\n",
    "                   df_target_Sep18,\n",
    "                   df_target_Oct18,\n",
    "                   df_target_Nov18,\n",
    "                   df_target_Dec18,\n",
    "                   df_target_Jan19,\n",
    "                   df_target_Feb19,\n",
    "                   df_target_Mar19\n",
    "                  ], sort=False)\n",
    "df_comb.Target.fillna(0, inplace=True)\n",
    "df_comb.describe()"
   ]
  },
  {
   "cell_type": "code",
   "execution_count": 20,
   "metadata": {},
   "outputs": [
    {
     "data": {
      "text/html": [
       "<div>\n",
       "<style scoped>\n",
       "    .dataframe tbody tr th:only-of-type {\n",
       "        vertical-align: middle;\n",
       "    }\n",
       "\n",
       "    .dataframe tbody tr th {\n",
       "        vertical-align: top;\n",
       "    }\n",
       "\n",
       "    .dataframe thead th {\n",
       "        text-align: right;\n",
       "    }\n",
       "</style>\n",
       "<table border=\"1\" class=\"dataframe\">\n",
       "  <thead>\n",
       "    <tr style=\"text-align: right;\">\n",
       "      <th></th>\n",
       "      <th>Activate</th>\n",
       "      <th>Breakdown</th>\n",
       "      <th>Challenge</th>\n",
       "      <th>Energy_History</th>\n",
       "      <th>Energy_Reports</th>\n",
       "      <th>Feed</th>\n",
       "      <th>Forgot_password</th>\n",
       "      <th>Other</th>\n",
       "      <th>Settings</th>\n",
       "      <th>Trend</th>\n",
       "      <th>total-pw-setting</th>\n",
       "      <th>Target</th>\n",
       "      <th>Right_Now</th>\n",
       "      <th>Grand_Total</th>\n",
       "    </tr>\n",
       "    <tr>\n",
       "      <th>ID</th>\n",
       "      <th></th>\n",
       "      <th></th>\n",
       "      <th></th>\n",
       "      <th></th>\n",
       "      <th></th>\n",
       "      <th></th>\n",
       "      <th></th>\n",
       "      <th></th>\n",
       "      <th></th>\n",
       "      <th></th>\n",
       "      <th></th>\n",
       "      <th></th>\n",
       "      <th></th>\n",
       "      <th></th>\n",
       "    </tr>\n",
       "  </thead>\n",
       "  <tbody>\n",
       "    <tr>\n",
       "      <th>ABDHFCJIDCF</th>\n",
       "      <td>0.0</td>\n",
       "      <td>0.000000</td>\n",
       "      <td>0.000000</td>\n",
       "      <td>0.000000</td>\n",
       "      <td>0.000000</td>\n",
       "      <td>0.770250</td>\n",
       "      <td>0.0000</td>\n",
       "      <td>0.691683</td>\n",
       "      <td>10.692783</td>\n",
       "      <td>0.857233</td>\n",
       "      <td>2.319167</td>\n",
       "      <td>1.0</td>\n",
       "      <td>NaN</td>\n",
       "      <td>NaN</td>\n",
       "    </tr>\n",
       "    <tr>\n",
       "      <th>ABDHGHGIDGD</th>\n",
       "      <td>0.0</td>\n",
       "      <td>2.173883</td>\n",
       "      <td>0.000000</td>\n",
       "      <td>0.185200</td>\n",
       "      <td>2.342733</td>\n",
       "      <td>1.650767</td>\n",
       "      <td>0.0000</td>\n",
       "      <td>0.000000</td>\n",
       "      <td>0.000000</td>\n",
       "      <td>1.576650</td>\n",
       "      <td>7.929233</td>\n",
       "      <td>1.0</td>\n",
       "      <td>NaN</td>\n",
       "      <td>NaN</td>\n",
       "    </tr>\n",
       "    <tr>\n",
       "      <th>ABEGFGFCCAI</th>\n",
       "      <td>0.0</td>\n",
       "      <td>5.532900</td>\n",
       "      <td>1.020917</td>\n",
       "      <td>16.544500</td>\n",
       "      <td>4.483817</td>\n",
       "      <td>4.754350</td>\n",
       "      <td>0.7303</td>\n",
       "      <td>0.000000</td>\n",
       "      <td>4.336717</td>\n",
       "      <td>1.968683</td>\n",
       "      <td>34.305167</td>\n",
       "      <td>0.0</td>\n",
       "      <td>NaN</td>\n",
       "      <td>NaN</td>\n",
       "    </tr>\n",
       "    <tr>\n",
       "      <th>ABEMGELDDIC</th>\n",
       "      <td>0.0</td>\n",
       "      <td>3.401117</td>\n",
       "      <td>0.303483</td>\n",
       "      <td>0.866283</td>\n",
       "      <td>2.902100</td>\n",
       "      <td>2.243750</td>\n",
       "      <td>0.0000</td>\n",
       "      <td>0.000000</td>\n",
       "      <td>12.313850</td>\n",
       "      <td>8.189450</td>\n",
       "      <td>17.906183</td>\n",
       "      <td>1.0</td>\n",
       "      <td>NaN</td>\n",
       "      <td>NaN</td>\n",
       "    </tr>\n",
       "    <tr>\n",
       "      <th>ABFHFIJJEGC</th>\n",
       "      <td>0.0</td>\n",
       "      <td>3.716900</td>\n",
       "      <td>1.021683</td>\n",
       "      <td>2.196500</td>\n",
       "      <td>7.875067</td>\n",
       "      <td>3.144817</td>\n",
       "      <td>0.0000</td>\n",
       "      <td>0.000000</td>\n",
       "      <td>6.252467</td>\n",
       "      <td>2.053500</td>\n",
       "      <td>20.008467</td>\n",
       "      <td>1.0</td>\n",
       "      <td>NaN</td>\n",
       "      <td>NaN</td>\n",
       "    </tr>\n",
       "  </tbody>\n",
       "</table>\n",
       "</div>"
      ],
      "text/plain": [
       "             Activate  Breakdown  Challenge  Energy_History  Energy_Reports  \\\n",
       "ID                                                                            \n",
       "ABDHFCJIDCF       0.0   0.000000   0.000000        0.000000        0.000000   \n",
       "ABDHGHGIDGD       0.0   2.173883   0.000000        0.185200        2.342733   \n",
       "ABEGFGFCCAI       0.0   5.532900   1.020917       16.544500        4.483817   \n",
       "ABEMGELDDIC       0.0   3.401117   0.303483        0.866283        2.902100   \n",
       "ABFHFIJJEGC       0.0   3.716900   1.021683        2.196500        7.875067   \n",
       "\n",
       "                 Feed  Forgot_password     Other   Settings     Trend  \\\n",
       "ID                                                                      \n",
       "ABDHFCJIDCF  0.770250           0.0000  0.691683  10.692783  0.857233   \n",
       "ABDHGHGIDGD  1.650767           0.0000  0.000000   0.000000  1.576650   \n",
       "ABEGFGFCCAI  4.754350           0.7303  0.000000   4.336717  1.968683   \n",
       "ABEMGELDDIC  2.243750           0.0000  0.000000  12.313850  8.189450   \n",
       "ABFHFIJJEGC  3.144817           0.0000  0.000000   6.252467  2.053500   \n",
       "\n",
       "             total-pw-setting  Target  Right_Now  Grand_Total  \n",
       "ID                                                             \n",
       "ABDHFCJIDCF          2.319167     1.0        NaN          NaN  \n",
       "ABDHGHGIDGD          7.929233     1.0        NaN          NaN  \n",
       "ABEGFGFCCAI         34.305167     0.0        NaN          NaN  \n",
       "ABEMGELDDIC         17.906183     1.0        NaN          NaN  \n",
       "ABFHFIJJEGC         20.008467     1.0        NaN          NaN  "
      ]
     },
     "execution_count": 20,
     "metadata": {},
     "output_type": "execute_result"
    }
   ],
   "source": [
    "df_comb.head()"
   ]
  },
  {
   "cell_type": "code",
   "execution_count": 21,
   "metadata": {},
   "outputs": [
    {
     "data": {
      "text/html": [
       "<div>\n",
       "<style scoped>\n",
       "    .dataframe tbody tr th:only-of-type {\n",
       "        vertical-align: middle;\n",
       "    }\n",
       "\n",
       "    .dataframe tbody tr th {\n",
       "        vertical-align: top;\n",
       "    }\n",
       "\n",
       "    .dataframe thead th {\n",
       "        text-align: right;\n",
       "    }\n",
       "</style>\n",
       "<table border=\"1\" class=\"dataframe\">\n",
       "  <thead>\n",
       "    <tr style=\"text-align: right;\">\n",
       "      <th></th>\n",
       "      <th>Activate</th>\n",
       "      <th>Breakdown</th>\n",
       "      <th>Challenge</th>\n",
       "      <th>Energy_History</th>\n",
       "      <th>Energy_Reports</th>\n",
       "      <th>Feed</th>\n",
       "      <th>Forgot_password</th>\n",
       "      <th>Other</th>\n",
       "      <th>Settings</th>\n",
       "      <th>Trend</th>\n",
       "      <th>total-pw-setting</th>\n",
       "      <th>Target</th>\n",
       "    </tr>\n",
       "    <tr>\n",
       "      <th>ID</th>\n",
       "      <th></th>\n",
       "      <th></th>\n",
       "      <th></th>\n",
       "      <th></th>\n",
       "      <th></th>\n",
       "      <th></th>\n",
       "      <th></th>\n",
       "      <th></th>\n",
       "      <th></th>\n",
       "      <th></th>\n",
       "      <th></th>\n",
       "      <th></th>\n",
       "    </tr>\n",
       "  </thead>\n",
       "  <tbody>\n",
       "    <tr>\n",
       "      <th>ABDHFCJIDCF</th>\n",
       "      <td>0.0</td>\n",
       "      <td>0.000000</td>\n",
       "      <td>0.000000</td>\n",
       "      <td>0.000000</td>\n",
       "      <td>0.000000</td>\n",
       "      <td>0.770250</td>\n",
       "      <td>0.0000</td>\n",
       "      <td>0.691683</td>\n",
       "      <td>10.692783</td>\n",
       "      <td>0.857233</td>\n",
       "      <td>2.319167</td>\n",
       "      <td>1.0</td>\n",
       "    </tr>\n",
       "    <tr>\n",
       "      <th>ABDHGHGIDGD</th>\n",
       "      <td>0.0</td>\n",
       "      <td>2.173883</td>\n",
       "      <td>0.000000</td>\n",
       "      <td>0.185200</td>\n",
       "      <td>2.342733</td>\n",
       "      <td>1.650767</td>\n",
       "      <td>0.0000</td>\n",
       "      <td>0.000000</td>\n",
       "      <td>0.000000</td>\n",
       "      <td>1.576650</td>\n",
       "      <td>7.929233</td>\n",
       "      <td>1.0</td>\n",
       "    </tr>\n",
       "    <tr>\n",
       "      <th>ABEGFGFCCAI</th>\n",
       "      <td>0.0</td>\n",
       "      <td>5.532900</td>\n",
       "      <td>1.020917</td>\n",
       "      <td>16.544500</td>\n",
       "      <td>4.483817</td>\n",
       "      <td>4.754350</td>\n",
       "      <td>0.7303</td>\n",
       "      <td>0.000000</td>\n",
       "      <td>4.336717</td>\n",
       "      <td>1.968683</td>\n",
       "      <td>34.305167</td>\n",
       "      <td>0.0</td>\n",
       "    </tr>\n",
       "    <tr>\n",
       "      <th>ABEMGELDDIC</th>\n",
       "      <td>0.0</td>\n",
       "      <td>3.401117</td>\n",
       "      <td>0.303483</td>\n",
       "      <td>0.866283</td>\n",
       "      <td>2.902100</td>\n",
       "      <td>2.243750</td>\n",
       "      <td>0.0000</td>\n",
       "      <td>0.000000</td>\n",
       "      <td>12.313850</td>\n",
       "      <td>8.189450</td>\n",
       "      <td>17.906183</td>\n",
       "      <td>1.0</td>\n",
       "    </tr>\n",
       "    <tr>\n",
       "      <th>ABFHFIJJEGC</th>\n",
       "      <td>0.0</td>\n",
       "      <td>3.716900</td>\n",
       "      <td>1.021683</td>\n",
       "      <td>2.196500</td>\n",
       "      <td>7.875067</td>\n",
       "      <td>3.144817</td>\n",
       "      <td>0.0000</td>\n",
       "      <td>0.000000</td>\n",
       "      <td>6.252467</td>\n",
       "      <td>2.053500</td>\n",
       "      <td>20.008467</td>\n",
       "      <td>1.0</td>\n",
       "    </tr>\n",
       "  </tbody>\n",
       "</table>\n",
       "</div>"
      ],
      "text/plain": [
       "             Activate  Breakdown  Challenge  Energy_History  Energy_Reports  \\\n",
       "ID                                                                            \n",
       "ABDHFCJIDCF       0.0   0.000000   0.000000        0.000000        0.000000   \n",
       "ABDHGHGIDGD       0.0   2.173883   0.000000        0.185200        2.342733   \n",
       "ABEGFGFCCAI       0.0   5.532900   1.020917       16.544500        4.483817   \n",
       "ABEMGELDDIC       0.0   3.401117   0.303483        0.866283        2.902100   \n",
       "ABFHFIJJEGC       0.0   3.716900   1.021683        2.196500        7.875067   \n",
       "\n",
       "                 Feed  Forgot_password     Other   Settings     Trend  \\\n",
       "ID                                                                      \n",
       "ABDHFCJIDCF  0.770250           0.0000  0.691683  10.692783  0.857233   \n",
       "ABDHGHGIDGD  1.650767           0.0000  0.000000   0.000000  1.576650   \n",
       "ABEGFGFCCAI  4.754350           0.7303  0.000000   4.336717  1.968683   \n",
       "ABEMGELDDIC  2.243750           0.0000  0.000000  12.313850  8.189450   \n",
       "ABFHFIJJEGC  3.144817           0.0000  0.000000   6.252467  2.053500   \n",
       "\n",
       "             total-pw-setting  Target  \n",
       "ID                                     \n",
       "ABDHFCJIDCF          2.319167     1.0  \n",
       "ABDHGHGIDGD          7.929233     1.0  \n",
       "ABEGFGFCCAI         34.305167     0.0  \n",
       "ABEMGELDDIC         17.906183     1.0  \n",
       "ABFHFIJJEGC         20.008467     1.0  "
      ]
     },
     "execution_count": 21,
     "metadata": {},
     "output_type": "execute_result"
    }
   ],
   "source": [
    "df_comb.drop(['Right_Now','Grand_Total'],axis=1,inplace=True)\n",
    "df_comb.head()"
   ]
  },
  {
   "cell_type": "markdown",
   "metadata": {},
   "source": [
    "Start to understand the Data & filtering"
   ]
  },
  {
   "cell_type": "code",
   "execution_count": 22,
   "metadata": {},
   "outputs": [
    {
     "data": {
      "text/html": [
       "<div>\n",
       "<style scoped>\n",
       "    .dataframe tbody tr th:only-of-type {\n",
       "        vertical-align: middle;\n",
       "    }\n",
       "\n",
       "    .dataframe tbody tr th {\n",
       "        vertical-align: top;\n",
       "    }\n",
       "\n",
       "    .dataframe thead th {\n",
       "        text-align: right;\n",
       "    }\n",
       "</style>\n",
       "<table border=\"1\" class=\"dataframe\">\n",
       "  <thead>\n",
       "    <tr style=\"text-align: right;\">\n",
       "      <th></th>\n",
       "      <th>Activate</th>\n",
       "      <th>Breakdown</th>\n",
       "      <th>Challenge</th>\n",
       "      <th>Energy_History</th>\n",
       "      <th>Energy_Reports</th>\n",
       "      <th>Feed</th>\n",
       "      <th>Forgot_password</th>\n",
       "      <th>Other</th>\n",
       "      <th>Settings</th>\n",
       "      <th>Trend</th>\n",
       "      <th>total-pw-setting</th>\n",
       "      <th>Target</th>\n",
       "    </tr>\n",
       "  </thead>\n",
       "  <tbody>\n",
       "    <tr>\n",
       "      <th>count</th>\n",
       "      <td>21864.000000</td>\n",
       "      <td>21864.000000</td>\n",
       "      <td>21864.000000</td>\n",
       "      <td>21864.000000</td>\n",
       "      <td>21864.000000</td>\n",
       "      <td>21864.000000</td>\n",
       "      <td>21864.000000</td>\n",
       "      <td>21864.000000</td>\n",
       "      <td>21864.000000</td>\n",
       "      <td>21864.000000</td>\n",
       "      <td>982.000000</td>\n",
       "      <td>21864.000000</td>\n",
       "    </tr>\n",
       "    <tr>\n",
       "      <th>mean</th>\n",
       "      <td>0.001121</td>\n",
       "      <td>1.200974</td>\n",
       "      <td>0.229744</td>\n",
       "      <td>1.794978</td>\n",
       "      <td>1.178358</td>\n",
       "      <td>1.025101</td>\n",
       "      <td>0.002620</td>\n",
       "      <td>0.141309</td>\n",
       "      <td>1.341226</td>\n",
       "      <td>1.905681</td>\n",
       "      <td>6.457513</td>\n",
       "      <td>0.268798</td>\n",
       "    </tr>\n",
       "    <tr>\n",
       "      <th>std</th>\n",
       "      <td>0.028214</td>\n",
       "      <td>27.065985</td>\n",
       "      <td>4.588918</td>\n",
       "      <td>39.875377</td>\n",
       "      <td>27.764501</td>\n",
       "      <td>27.622096</td>\n",
       "      <td>0.054412</td>\n",
       "      <td>0.691615</td>\n",
       "      <td>19.561587</td>\n",
       "      <td>41.936254</td>\n",
       "      <td>9.739372</td>\n",
       "      <td>0.443345</td>\n",
       "    </tr>\n",
       "    <tr>\n",
       "      <th>min</th>\n",
       "      <td>0.000000</td>\n",
       "      <td>0.000000</td>\n",
       "      <td>0.000000</td>\n",
       "      <td>0.000000</td>\n",
       "      <td>0.000000</td>\n",
       "      <td>0.000000</td>\n",
       "      <td>0.000000</td>\n",
       "      <td>0.000000</td>\n",
       "      <td>0.000000</td>\n",
       "      <td>0.000000</td>\n",
       "      <td>0.000000</td>\n",
       "      <td>0.000000</td>\n",
       "    </tr>\n",
       "    <tr>\n",
       "      <th>25%</th>\n",
       "      <td>0.000000</td>\n",
       "      <td>0.000000</td>\n",
       "      <td>0.000000</td>\n",
       "      <td>0.000000</td>\n",
       "      <td>0.000000</td>\n",
       "      <td>0.001450</td>\n",
       "      <td>0.000000</td>\n",
       "      <td>0.000000</td>\n",
       "      <td>0.000000</td>\n",
       "      <td>0.000000</td>\n",
       "      <td>1.071254</td>\n",
       "      <td>0.000000</td>\n",
       "    </tr>\n",
       "    <tr>\n",
       "      <th>50%</th>\n",
       "      <td>0.000000</td>\n",
       "      <td>0.144933</td>\n",
       "      <td>0.000000</td>\n",
       "      <td>0.163792</td>\n",
       "      <td>0.142800</td>\n",
       "      <td>0.360567</td>\n",
       "      <td>0.000000</td>\n",
       "      <td>0.000000</td>\n",
       "      <td>0.068542</td>\n",
       "      <td>0.192958</td>\n",
       "      <td>2.846783</td>\n",
       "      <td>0.000000</td>\n",
       "    </tr>\n",
       "    <tr>\n",
       "      <th>75%</th>\n",
       "      <td>0.000000</td>\n",
       "      <td>0.949567</td>\n",
       "      <td>0.000000</td>\n",
       "      <td>1.185604</td>\n",
       "      <td>0.961742</td>\n",
       "      <td>0.914146</td>\n",
       "      <td>0.000000</td>\n",
       "      <td>0.000000</td>\n",
       "      <td>1.361312</td>\n",
       "      <td>1.095975</td>\n",
       "      <td>7.577050</td>\n",
       "      <td>1.000000</td>\n",
       "    </tr>\n",
       "    <tr>\n",
       "      <th>max</th>\n",
       "      <td>1.727317</td>\n",
       "      <td>2933.794167</td>\n",
       "      <td>530.075400</td>\n",
       "      <td>4256.898483</td>\n",
       "      <td>3047.709000</td>\n",
       "      <td>2832.671050</td>\n",
       "      <td>2.883783</td>\n",
       "      <td>18.245583</td>\n",
       "      <td>2485.562317</td>\n",
       "      <td>4608.315900</td>\n",
       "      <td>74.173183</td>\n",
       "      <td>1.000000</td>\n",
       "    </tr>\n",
       "  </tbody>\n",
       "</table>\n",
       "</div>"
      ],
      "text/plain": [
       "           Activate     Breakdown     Challenge  Energy_History  \\\n",
       "count  21864.000000  21864.000000  21864.000000    21864.000000   \n",
       "mean       0.001121      1.200974      0.229744        1.794978   \n",
       "std        0.028214     27.065985      4.588918       39.875377   \n",
       "min        0.000000      0.000000      0.000000        0.000000   \n",
       "25%        0.000000      0.000000      0.000000        0.000000   \n",
       "50%        0.000000      0.144933      0.000000        0.163792   \n",
       "75%        0.000000      0.949567      0.000000        1.185604   \n",
       "max        1.727317   2933.794167    530.075400     4256.898483   \n",
       "\n",
       "       Energy_Reports          Feed  Forgot_password         Other  \\\n",
       "count    21864.000000  21864.000000     21864.000000  21864.000000   \n",
       "mean         1.178358      1.025101         0.002620      0.141309   \n",
       "std         27.764501     27.622096         0.054412      0.691615   \n",
       "min          0.000000      0.000000         0.000000      0.000000   \n",
       "25%          0.000000      0.001450         0.000000      0.000000   \n",
       "50%          0.142800      0.360567         0.000000      0.000000   \n",
       "75%          0.961742      0.914146         0.000000      0.000000   \n",
       "max       3047.709000   2832.671050         2.883783     18.245583   \n",
       "\n",
       "           Settings         Trend  total-pw-setting        Target  \n",
       "count  21864.000000  21864.000000        982.000000  21864.000000  \n",
       "mean       1.341226      1.905681          6.457513      0.268798  \n",
       "std       19.561587     41.936254          9.739372      0.443345  \n",
       "min        0.000000      0.000000          0.000000      0.000000  \n",
       "25%        0.000000      0.000000          1.071254      0.000000  \n",
       "50%        0.068542      0.192958          2.846783      0.000000  \n",
       "75%        1.361312      1.095975          7.577050      1.000000  \n",
       "max     2485.562317   4608.315900         74.173183      1.000000  "
      ]
     },
     "execution_count": 22,
     "metadata": {},
     "output_type": "execute_result"
    }
   ],
   "source": [
    "df_comb.describe()"
   ]
  },
  {
   "cell_type": "markdown",
   "metadata": {},
   "source": [
    "There are clearly outliers in the dataset by looking at Max vs 50% and mean. Let's get rid off all data that's greater than 500."
   ]
  },
  {
   "cell_type": "code",
   "execution_count": 23,
   "metadata": {},
   "outputs": [
    {
     "data": {
      "text/html": [
       "<div>\n",
       "<style scoped>\n",
       "    .dataframe tbody tr th:only-of-type {\n",
       "        vertical-align: middle;\n",
       "    }\n",
       "\n",
       "    .dataframe tbody tr th {\n",
       "        vertical-align: top;\n",
       "    }\n",
       "\n",
       "    .dataframe thead th {\n",
       "        text-align: right;\n",
       "    }\n",
       "</style>\n",
       "<table border=\"1\" class=\"dataframe\">\n",
       "  <thead>\n",
       "    <tr style=\"text-align: right;\">\n",
       "      <th></th>\n",
       "      <th>Activate</th>\n",
       "      <th>Breakdown</th>\n",
       "      <th>Challenge</th>\n",
       "      <th>Energy_History</th>\n",
       "      <th>Energy_Reports</th>\n",
       "      <th>Feed</th>\n",
       "      <th>Forgot_password</th>\n",
       "      <th>Other</th>\n",
       "      <th>Settings</th>\n",
       "      <th>Trend</th>\n",
       "      <th>total-pw-setting</th>\n",
       "      <th>Target</th>\n",
       "    </tr>\n",
       "  </thead>\n",
       "  <tbody>\n",
       "    <tr>\n",
       "      <th>count</th>\n",
       "      <td>21860.000000</td>\n",
       "      <td>21860.000000</td>\n",
       "      <td>21860.000000</td>\n",
       "      <td>21860.000000</td>\n",
       "      <td>21860.000000</td>\n",
       "      <td>21860.000000</td>\n",
       "      <td>21860.000000</td>\n",
       "      <td>21860.000000</td>\n",
       "      <td>21860.000000</td>\n",
       "      <td>21860.000000</td>\n",
       "      <td>982.000000</td>\n",
       "      <td>21860.000000</td>\n",
       "    </tr>\n",
       "    <tr>\n",
       "      <th>mean</th>\n",
       "      <td>0.001122</td>\n",
       "      <td>0.861229</td>\n",
       "      <td>0.174169</td>\n",
       "      <td>1.286183</td>\n",
       "      <td>0.831151</td>\n",
       "      <td>0.683270</td>\n",
       "      <td>0.002621</td>\n",
       "      <td>0.139522</td>\n",
       "      <td>1.132500</td>\n",
       "      <td>1.395157</td>\n",
       "      <td>6.457513</td>\n",
       "      <td>0.268664</td>\n",
       "    </tr>\n",
       "    <tr>\n",
       "      <th>std</th>\n",
       "      <td>0.028217</td>\n",
       "      <td>1.884131</td>\n",
       "      <td>0.728474</td>\n",
       "      <td>3.374971</td>\n",
       "      <td>1.735021</td>\n",
       "      <td>1.028121</td>\n",
       "      <td>0.054417</td>\n",
       "      <td>0.670999</td>\n",
       "      <td>3.980058</td>\n",
       "      <td>7.163078</td>\n",
       "      <td>9.739372</td>\n",
       "      <td>0.443275</td>\n",
       "    </tr>\n",
       "    <tr>\n",
       "      <th>min</th>\n",
       "      <td>0.000000</td>\n",
       "      <td>0.000000</td>\n",
       "      <td>0.000000</td>\n",
       "      <td>0.000000</td>\n",
       "      <td>0.000000</td>\n",
       "      <td>0.000000</td>\n",
       "      <td>0.000000</td>\n",
       "      <td>0.000000</td>\n",
       "      <td>0.000000</td>\n",
       "      <td>0.000000</td>\n",
       "      <td>0.000000</td>\n",
       "      <td>0.000000</td>\n",
       "    </tr>\n",
       "    <tr>\n",
       "      <th>25%</th>\n",
       "      <td>0.000000</td>\n",
       "      <td>0.000000</td>\n",
       "      <td>0.000000</td>\n",
       "      <td>0.000000</td>\n",
       "      <td>0.000000</td>\n",
       "      <td>0.001446</td>\n",
       "      <td>0.000000</td>\n",
       "      <td>0.000000</td>\n",
       "      <td>0.000000</td>\n",
       "      <td>0.000000</td>\n",
       "      <td>1.071254</td>\n",
       "      <td>0.000000</td>\n",
       "    </tr>\n",
       "    <tr>\n",
       "      <th>50%</th>\n",
       "      <td>0.000000</td>\n",
       "      <td>0.144817</td>\n",
       "      <td>0.000000</td>\n",
       "      <td>0.163475</td>\n",
       "      <td>0.142642</td>\n",
       "      <td>0.360450</td>\n",
       "      <td>0.000000</td>\n",
       "      <td>0.000000</td>\n",
       "      <td>0.068517</td>\n",
       "      <td>0.192783</td>\n",
       "      <td>2.846783</td>\n",
       "      <td>0.000000</td>\n",
       "    </tr>\n",
       "    <tr>\n",
       "      <th>75%</th>\n",
       "      <td>0.000000</td>\n",
       "      <td>0.948925</td>\n",
       "      <td>0.000000</td>\n",
       "      <td>1.184925</td>\n",
       "      <td>0.961092</td>\n",
       "      <td>0.913750</td>\n",
       "      <td>0.000000</td>\n",
       "      <td>0.000000</td>\n",
       "      <td>1.360208</td>\n",
       "      <td>1.095042</td>\n",
       "      <td>7.577050</td>\n",
       "      <td>1.000000</td>\n",
       "    </tr>\n",
       "    <tr>\n",
       "      <th>max</th>\n",
       "      <td>1.727317</td>\n",
       "      <td>54.176550</td>\n",
       "      <td>20.007183</td>\n",
       "      <td>105.785017</td>\n",
       "      <td>35.571283</td>\n",
       "      <td>15.695217</td>\n",
       "      <td>2.883783</td>\n",
       "      <td>17.824600</td>\n",
       "      <td>336.753183</td>\n",
       "      <td>524.651983</td>\n",
       "      <td>74.173183</td>\n",
       "      <td>1.000000</td>\n",
       "    </tr>\n",
       "  </tbody>\n",
       "</table>\n",
       "</div>"
      ],
      "text/plain": [
       "           Activate     Breakdown     Challenge  Energy_History  \\\n",
       "count  21860.000000  21860.000000  21860.000000    21860.000000   \n",
       "mean       0.001122      0.861229      0.174169        1.286183   \n",
       "std        0.028217      1.884131      0.728474        3.374971   \n",
       "min        0.000000      0.000000      0.000000        0.000000   \n",
       "25%        0.000000      0.000000      0.000000        0.000000   \n",
       "50%        0.000000      0.144817      0.000000        0.163475   \n",
       "75%        0.000000      0.948925      0.000000        1.184925   \n",
       "max        1.727317     54.176550     20.007183      105.785017   \n",
       "\n",
       "       Energy_Reports          Feed  Forgot_password         Other  \\\n",
       "count    21860.000000  21860.000000     21860.000000  21860.000000   \n",
       "mean         0.831151      0.683270         0.002621      0.139522   \n",
       "std          1.735021      1.028121         0.054417      0.670999   \n",
       "min          0.000000      0.000000         0.000000      0.000000   \n",
       "25%          0.000000      0.001446         0.000000      0.000000   \n",
       "50%          0.142642      0.360450         0.000000      0.000000   \n",
       "75%          0.961092      0.913750         0.000000      0.000000   \n",
       "max         35.571283     15.695217         2.883783     17.824600   \n",
       "\n",
       "           Settings         Trend  total-pw-setting        Target  \n",
       "count  21860.000000  21860.000000        982.000000  21860.000000  \n",
       "mean       1.132500      1.395157          6.457513      0.268664  \n",
       "std        3.980058      7.163078          9.739372      0.443275  \n",
       "min        0.000000      0.000000          0.000000      0.000000  \n",
       "25%        0.000000      0.000000          1.071254      0.000000  \n",
       "50%        0.068517      0.192783          2.846783      0.000000  \n",
       "75%        1.360208      1.095042          7.577050      1.000000  \n",
       "max      336.753183    524.651983         74.173183      1.000000  "
      ]
     },
     "execution_count": 23,
     "metadata": {},
     "output_type": "execute_result"
    }
   ],
   "source": [
    "#the box chart suggests that there are outliars need to be treated. set filter to less than 500s per screen.\n",
    "df_comb=df_comb[df_comb['Energy_History']<500]\n",
    "df_comb.describe()"
   ]
  },
  {
   "cell_type": "code",
   "execution_count": 30,
   "metadata": {},
   "outputs": [
    {
     "data": {
      "image/png": "[encoded data removed]",
      "text/plain": [
       "<Figure size 864x576 with 1 Axes>"
      ]
     },
     "metadata": {
      "needs_background": "light"
     },
     "output_type": "display_data"
    }
   ],
   "source": [
    "import matplotlib.pyplot as plt\n",
    "%matplotlib inline\n",
    "import seaborn as sns\n",
    "\n",
    "plt.figure(figsize=(12, 8))\n",
    "plt.boxplot([df_comb[col] for col in df_comb.columns[:-3]])\n",
    "plt.title(\"Box plot for each screen usage time\")\n",
    "plt.xticks(range(len(df_comb.columns[:-2].values)), df_comb.columns[:-2].values)\n",
    "plt.show()"
   ]
  },
  {
   "cell_type": "markdown",
   "metadata": {},
   "source": [
    "The most valuablable screen for this app is Energy Reports and Trend. The company should not be spending time on refining breakdown page."
   ]
  },
  {
   "cell_type": "code",
   "execution_count": 13,
   "metadata": {},
   "outputs": [
    {
     "data": {
      "image/png": "[encoded data removed]",
      "text/plain": [
       "<Figure size 432x288 with 1 Axes>"
      ]
     },
     "metadata": {
      "needs_background": "light"
     },
     "output_type": "display_data"
    },
    {
     "name": "stdout",
     "output_type": "stream",
     "text": [
      "Zeros/Inactive:  0.7313357731015554\n",
      "Ones/Active:  0.26866422689844466\n"
     ]
    }
   ],
   "source": [
    "import numpy as np\n",
    "ones=df_comb.Target.sum()\n",
    "zeros=len(df_comb.Target)-ones\n",
    "height=[zeros,ones]\n",
    "bars=(\"Inactive user\", \"Active user\")\n",
    "y_pos = np.arange(len(bars))\n",
    "plt.bar(y_pos, height)\n",
    "plt.xticks(y_pos,bars)\n",
    "plt.show()\n",
    "\n",
    "print('Zeros/Inactive: ', zeros/(zeros+ones))\n",
    "print('Ones/Active: ', ones/(zeros+ones))\n"
   ]
  },
  {
   "cell_type": "markdown",
   "metadata": {},
   "source": [
    "Baseline data is skewed to Inactive/zeros. Need to resample and use balanced dataset."
   ]
  },
  {
   "cell_type": "markdown",
   "metadata": {},
   "source": [
    "Start splitting training and testing dataset."
   ]
  },
  {
   "cell_type": "code",
   "execution_count": 31,
   "metadata": {},
   "outputs": [
    {
     "data": {
      "text/html": [
       "<div>\n",
       "<style scoped>\n",
       "    .dataframe tbody tr th:only-of-type {\n",
       "        vertical-align: middle;\n",
       "    }\n",
       "\n",
       "    .dataframe tbody tr th {\n",
       "        vertical-align: top;\n",
       "    }\n",
       "\n",
       "    .dataframe thead th {\n",
       "        text-align: right;\n",
       "    }\n",
       "</style>\n",
       "<table border=\"1\" class=\"dataframe\">\n",
       "  <thead>\n",
       "    <tr style=\"text-align: right;\">\n",
       "      <th></th>\n",
       "      <th>Activate</th>\n",
       "      <th>Breakdown</th>\n",
       "      <th>Challenge</th>\n",
       "      <th>Energy_History</th>\n",
       "      <th>Energy_Reports</th>\n",
       "      <th>Feed</th>\n",
       "      <th>Forgot_password</th>\n",
       "      <th>Other</th>\n",
       "      <th>Settings</th>\n",
       "      <th>Trend</th>\n",
       "      <th>total-pw-setting</th>\n",
       "      <th>Target</th>\n",
       "    </tr>\n",
       "    <tr>\n",
       "      <th>ID</th>\n",
       "      <th></th>\n",
       "      <th></th>\n",
       "      <th></th>\n",
       "      <th></th>\n",
       "      <th></th>\n",
       "      <th></th>\n",
       "      <th></th>\n",
       "      <th></th>\n",
       "      <th></th>\n",
       "      <th></th>\n",
       "      <th></th>\n",
       "      <th></th>\n",
       "    </tr>\n",
       "  </thead>\n",
       "  <tbody>\n",
       "    <tr>\n",
       "      <th>BILDLCEJEHC</th>\n",
       "      <td>0.0</td>\n",
       "      <td>0.000000</td>\n",
       "      <td>0.000000</td>\n",
       "      <td>0.000000</td>\n",
       "      <td>0.000000</td>\n",
       "      <td>0.000000</td>\n",
       "      <td>0.0</td>\n",
       "      <td>0.0</td>\n",
       "      <td>0.000000</td>\n",
       "      <td>0.000000</td>\n",
       "      <td>NaN</td>\n",
       "      <td>0.0</td>\n",
       "    </tr>\n",
       "    <tr>\n",
       "      <th>ABEELDFGCHJ</th>\n",
       "      <td>0.0</td>\n",
       "      <td>0.750317</td>\n",
       "      <td>6.973733</td>\n",
       "      <td>14.084967</td>\n",
       "      <td>4.648450</td>\n",
       "      <td>0.848567</td>\n",
       "      <td>0.0</td>\n",
       "      <td>0.0</td>\n",
       "      <td>2.445450</td>\n",
       "      <td>5.261817</td>\n",
       "      <td>NaN</td>\n",
       "      <td>1.0</td>\n",
       "    </tr>\n",
       "    <tr>\n",
       "      <th>AJIDEFIHECC</th>\n",
       "      <td>0.0</td>\n",
       "      <td>0.211833</td>\n",
       "      <td>0.000000</td>\n",
       "      <td>0.540333</td>\n",
       "      <td>0.063967</td>\n",
       "      <td>1.599267</td>\n",
       "      <td>0.0</td>\n",
       "      <td>0.0</td>\n",
       "      <td>0.246967</td>\n",
       "      <td>0.796017</td>\n",
       "      <td>NaN</td>\n",
       "      <td>0.0</td>\n",
       "    </tr>\n",
       "    <tr>\n",
       "      <th>ADKFFJIIFAG</th>\n",
       "      <td>0.0</td>\n",
       "      <td>0.202333</td>\n",
       "      <td>0.000000</td>\n",
       "      <td>0.015400</td>\n",
       "      <td>0.888567</td>\n",
       "      <td>0.046517</td>\n",
       "      <td>0.0</td>\n",
       "      <td>0.0</td>\n",
       "      <td>3.343967</td>\n",
       "      <td>0.177867</td>\n",
       "      <td>NaN</td>\n",
       "      <td>0.0</td>\n",
       "    </tr>\n",
       "    <tr>\n",
       "      <th>ABGLELFIEHJ</th>\n",
       "      <td>0.0</td>\n",
       "      <td>0.000000</td>\n",
       "      <td>0.000000</td>\n",
       "      <td>0.347550</td>\n",
       "      <td>1.374433</td>\n",
       "      <td>0.000000</td>\n",
       "      <td>0.0</td>\n",
       "      <td>0.0</td>\n",
       "      <td>0.000000</td>\n",
       "      <td>2.021400</td>\n",
       "      <td>3.743383</td>\n",
       "      <td>0.0</td>\n",
       "    </tr>\n",
       "  </tbody>\n",
       "</table>\n",
       "</div>"
      ],
      "text/plain": [
       "             Activate  Breakdown  Challenge  Energy_History  Energy_Reports  \\\n",
       "ID                                                                            \n",
       "BILDLCEJEHC       0.0   0.000000   0.000000        0.000000        0.000000   \n",
       "ABEELDFGCHJ       0.0   0.750317   6.973733       14.084967        4.648450   \n",
       "AJIDEFIHECC       0.0   0.211833   0.000000        0.540333        0.063967   \n",
       "ADKFFJIIFAG       0.0   0.202333   0.000000        0.015400        0.888567   \n",
       "ABGLELFIEHJ       0.0   0.000000   0.000000        0.347550        1.374433   \n",
       "\n",
       "                 Feed  Forgot_password  Other  Settings     Trend  \\\n",
       "ID                                                                  \n",
       "BILDLCEJEHC  0.000000              0.0    0.0  0.000000  0.000000   \n",
       "ABEELDFGCHJ  0.848567              0.0    0.0  2.445450  5.261817   \n",
       "AJIDEFIHECC  1.599267              0.0    0.0  0.246967  0.796017   \n",
       "ADKFFJIIFAG  0.046517              0.0    0.0  3.343967  0.177867   \n",
       "ABGLELFIEHJ  0.000000              0.0    0.0  0.000000  2.021400   \n",
       "\n",
       "             total-pw-setting  Target  \n",
       "ID                                     \n",
       "BILDLCEJEHC               NaN     0.0  \n",
       "ABEELDFGCHJ               NaN     1.0  \n",
       "AJIDEFIHECC               NaN     0.0  \n",
       "ADKFFJIIFAG               NaN     0.0  \n",
       "ABGLELFIEHJ          3.743383     0.0  "
      ]
     },
     "execution_count": 31,
     "metadata": {},
     "output_type": "execute_result"
    }
   ],
   "source": [
    "X = df_comb[df_comb.columns]\n",
    "y = df_comb.Target\n",
    "x_train, X_test, y_train, y_test=train_test_split(X,y,random_state=1)\n",
    "x_train.head()"
   ]
  },
  {
   "cell_type": "markdown",
   "metadata": {},
   "source": [
    "Create a balanced dataset for training."
   ]
  },
  {
   "cell_type": "code",
   "execution_count": 35,
   "metadata": {},
   "outputs": [
    {
     "data": {
      "text/html": [
       "<div>\n",
       "<style scoped>\n",
       "    .dataframe tbody tr th:only-of-type {\n",
       "        vertical-align: middle;\n",
       "    }\n",
       "\n",
       "    .dataframe tbody tr th {\n",
       "        vertical-align: top;\n",
       "    }\n",
       "\n",
       "    .dataframe thead th {\n",
       "        text-align: right;\n",
       "    }\n",
       "</style>\n",
       "<table border=\"1\" class=\"dataframe\">\n",
       "  <thead>\n",
       "    <tr style=\"text-align: right;\">\n",
       "      <th></th>\n",
       "      <th>Activate</th>\n",
       "      <th>Breakdown</th>\n",
       "      <th>Challenge</th>\n",
       "      <th>Energy_History</th>\n",
       "      <th>Energy_Reports</th>\n",
       "      <th>Feed</th>\n",
       "      <th>Forgot_password</th>\n",
       "      <th>Other</th>\n",
       "      <th>Settings</th>\n",
       "      <th>Trend</th>\n",
       "    </tr>\n",
       "    <tr>\n",
       "      <th>ID</th>\n",
       "      <th></th>\n",
       "      <th></th>\n",
       "      <th></th>\n",
       "      <th></th>\n",
       "      <th></th>\n",
       "      <th></th>\n",
       "      <th></th>\n",
       "      <th></th>\n",
       "      <th></th>\n",
       "      <th></th>\n",
       "    </tr>\n",
       "  </thead>\n",
       "  <tbody>\n",
       "    <tr>\n",
       "      <th>BHFLHHKHFHB</th>\n",
       "      <td>0.0</td>\n",
       "      <td>0.000000</td>\n",
       "      <td>0.000000</td>\n",
       "      <td>0.000000</td>\n",
       "      <td>0.000000</td>\n",
       "      <td>0.337500</td>\n",
       "      <td>0.0</td>\n",
       "      <td>0.0</td>\n",
       "      <td>0.329100</td>\n",
       "      <td>0.00000</td>\n",
       "    </tr>\n",
       "    <tr>\n",
       "      <th>BFGGJCGDDAH</th>\n",
       "      <td>0.0</td>\n",
       "      <td>0.537500</td>\n",
       "      <td>0.000000</td>\n",
       "      <td>1.350233</td>\n",
       "      <td>0.254550</td>\n",
       "      <td>0.723700</td>\n",
       "      <td>0.0</td>\n",
       "      <td>0.0</td>\n",
       "      <td>1.748467</td>\n",
       "      <td>0.00000</td>\n",
       "    </tr>\n",
       "    <tr>\n",
       "      <th>BHFJNJLGGDI</th>\n",
       "      <td>0.0</td>\n",
       "      <td>0.000000</td>\n",
       "      <td>0.000000</td>\n",
       "      <td>0.000000</td>\n",
       "      <td>0.000000</td>\n",
       "      <td>0.551333</td>\n",
       "      <td>0.0</td>\n",
       "      <td>0.0</td>\n",
       "      <td>0.000000</td>\n",
       "      <td>0.02065</td>\n",
       "    </tr>\n",
       "    <tr>\n",
       "      <th>BCGMJDIFEEA</th>\n",
       "      <td>0.0</td>\n",
       "      <td>1.421800</td>\n",
       "      <td>0.000000</td>\n",
       "      <td>0.000000</td>\n",
       "      <td>0.000000</td>\n",
       "      <td>1.427383</td>\n",
       "      <td>0.0</td>\n",
       "      <td>0.0</td>\n",
       "      <td>0.150450</td>\n",
       "      <td>0.00190</td>\n",
       "    </tr>\n",
       "    <tr>\n",
       "      <th>BDJIHJEHEIC</th>\n",
       "      <td>0.0</td>\n",
       "      <td>0.063367</td>\n",
       "      <td>0.062933</td>\n",
       "      <td>0.842417</td>\n",
       "      <td>0.225917</td>\n",
       "      <td>0.688583</td>\n",
       "      <td>0.0</td>\n",
       "      <td>0.0</td>\n",
       "      <td>0.033583</td>\n",
       "      <td>0.21640</td>\n",
       "    </tr>\n",
       "  </tbody>\n",
       "</table>\n",
       "</div>"
      ],
      "text/plain": [
       "             Activate  Breakdown  Challenge  Energy_History  Energy_Reports  \\\n",
       "ID                                                                            \n",
       "BHFLHHKHFHB       0.0   0.000000   0.000000        0.000000        0.000000   \n",
       "BFGGJCGDDAH       0.0   0.537500   0.000000        1.350233        0.254550   \n",
       "BHFJNJLGGDI       0.0   0.000000   0.000000        0.000000        0.000000   \n",
       "BCGMJDIFEEA       0.0   1.421800   0.000000        0.000000        0.000000   \n",
       "BDJIHJEHEIC       0.0   0.063367   0.062933        0.842417        0.225917   \n",
       "\n",
       "                 Feed  Forgot_password  Other  Settings    Trend  \n",
       "ID                                                                \n",
       "BHFLHHKHFHB  0.337500              0.0    0.0  0.329100  0.00000  \n",
       "BFGGJCGDDAH  0.723700              0.0    0.0  1.748467  0.00000  \n",
       "BHFJNJLGGDI  0.551333              0.0    0.0  0.000000  0.02065  \n",
       "BCGMJDIFEEA  1.427383              0.0    0.0  0.150450  0.00190  \n",
       "BDJIHJEHEIC  0.688583              0.0    0.0  0.033583  0.21640  "
      ]
     },
     "execution_count": 35,
     "metadata": {},
     "output_type": "execute_result"
    }
   ],
   "source": [
    "\n",
    "X_balance = pd.concat([x_train[x_train.Target==0].sample(len(x_train[x_train['Target'] == 1])), \n",
    "                 x_train[x_train['Target'] == 1]])\n",
    "y_train=X_balance.Target\n",
    "X_train=X_balance[X_balance.columns[:-2]]\n",
    "X_test=X_test[X_test.columns[:-2]]\n",
    "X_train.head()\n"
   ]
  },
  {
   "cell_type": "code",
   "execution_count": 36,
   "metadata": {},
   "outputs": [
    {
     "data": {
      "text/plain": [
       "<matplotlib.axes._subplots.AxesSubplot at 0x1a245ae9b0>"
      ]
     },
     "execution_count": 36,
     "metadata": {},
     "output_type": "execute_result"
    },
    {
     "data": {
      "image/png": "[encoded data removed]",
      "text/plain": [
       "<Figure size 720x576 with 2 Axes>"
      ]
     },
     "metadata": {
      "needs_background": "light"
     },
     "output_type": "display_data"
    }
   ],
   "source": [
    "#correlation map\n",
    "f,ax = plt.subplots(figsize=(10, 8))\n",
    "sns.heatmap(X.corr(), annot=True, linewidths=.5, fmt= '.1f',ax=ax)"
   ]
  },
  {
   "cell_type": "markdown",
   "metadata": {},
   "source": [
    "Variables are well de-correlated, apart from 'Forget Password' and 'activation', which is expected, and Energy_history vs Total-pw-setting. This suggests that Energy History is a big proportion of the total usage time in this app."
   ]
  },
  {
   "cell_type": "code",
   "execution_count": 37,
   "metadata": {},
   "outputs": [
    {
     "name": "stderr",
     "output_type": "stream",
     "text": [
      "/Users/Alex/anaconda3/envs/stan_env/lib/python3.6/site-packages/sklearn/linear_model/logistic.py:432: FutureWarning: Default solver will be changed to 'lbfgs' in 0.22. Specify a solver to silence this warning.\n",
      "  FutureWarning)\n"
     ]
    },
    {
     "data": {
      "text/plain": [
       "LogisticRegression(C=1000000000000.0, class_weight=None, dual=False,\n",
       "                   fit_intercept=False, intercept_scaling=1, l1_ratio=None,\n",
       "                   max_iter=100, multi_class='warn', n_jobs=None, penalty='l2',\n",
       "                   random_state=1, solver='warn', tol=0.0001, verbose=0,\n",
       "                   warm_start=False)"
      ]
     },
     "execution_count": 37,
     "metadata": {},
     "output_type": "execute_result"
    }
   ],
   "source": [
    "#Fit a Logistic Regression Model\n",
    "logreg = LogisticRegression(fit_intercept = False, C = 1e12, random_state=1) #Starter code\n",
    "model_log=logreg.fit(X_train, y_train)\n",
    "model_log"
   ]
  },
  {
   "cell_type": "code",
   "execution_count": 38,
   "metadata": {},
   "outputs": [],
   "source": [
    "#Predict\n",
    "y_hat_test=logreg.predict(X_test)\n",
    "y_hat_train=logreg.predict(X_train)"
   ]
  },
  {
   "cell_type": "code",
   "execution_count": 39,
   "metadata": {},
   "outputs": [
    {
     "name": "stdout",
     "output_type": "stream",
     "text": [
      " 0.0    5410\n",
      "-1.0    3011\n",
      " 1.0     433\n",
      "Name: Target, dtype: int64\n",
      " 0.0    0.611023\n",
      "-1.0    0.340072\n",
      " 1.0    0.048904\n",
      "Name: Target, dtype: float64\n"
     ]
    }
   ],
   "source": [
    "#Evaluation\n",
    "res=y_train-y_hat_train\n",
    "print(pd.Series(res).value_counts())\n",
    "print(pd.Series(res).value_counts(normalize=True))"
   ]
  },
  {
   "cell_type": "code",
   "execution_count": 28,
   "metadata": {},
   "outputs": [
    {
     "data": {
      "text/plain": [
       "0.4570905763952425"
      ]
     },
     "execution_count": 28,
     "metadata": {},
     "output_type": "execute_result"
    }
   ],
   "source": [
    "model_log.score(X_test, y_test)"
   ]
  },
  {
   "cell_type": "code",
   "execution_count": 29,
   "metadata": {},
   "outputs": [],
   "source": [
    "from yellowbrick.classifier import ConfusionMatrix"
   ]
  },
  {
   "cell_type": "code",
   "execution_count": 30,
   "metadata": {},
   "outputs": [
    {
     "name": "stderr",
     "output_type": "stream",
     "text": [
      "/Users/Alex/anaconda3/envs/stan_env/lib/python3.6/site-packages/sklearn/linear_model/logistic.py:432: FutureWarning: Default solver will be changed to 'lbfgs' in 0.22. Specify a solver to silence this warning.\n",
      "  FutureWarning)\n"
     ]
    },
    {
     "data": {
      "image/png": "[encoded data removed]",
      "text/plain": [
       "<Figure size 576x396 with 1 Axes>"
      ]
     },
     "metadata": {},
     "output_type": "display_data"
    }
   ],
   "source": [
    "cm = ConfusionMatrix(model_log, classes=[0,1])\n",
    "cm.fit(X_train, y_train)\n",
    "cm.score(X_test, y_test)\n",
    "cm.poof()"
   ]
  },
  {
   "cell_type": "markdown",
   "metadata": {},
   "source": [
    "61% time that we are correct in predicting a balanced training set. this is 10% than baseline training set of 50%"
   ]
  },
  {
   "cell_type": "code",
   "execution_count": 43,
   "metadata": {},
   "outputs": [
    {
     "name": "stdout",
     "output_type": "stream",
     "text": [
      "Confusion Matrix:\n",
      " [[1270  167]\n",
      " [2749 1279]]\n"
     ]
    }
   ],
   "source": [
    "#Confusion Matrix\n",
    "from sklearn.metrics import confusion_matrix\n",
    "\n",
    "cnf_matrix = confusion_matrix(y_hat_test, y_test)\n",
    "print('Confusion Matrix:\\n',cnf_matrix)"
   ]
  },
  {
   "cell_type": "code",
   "execution_count": 44,
   "metadata": {},
   "outputs": [],
   "source": [
    "#Make Confusion Matrix Pretty\n",
    "def plot_confusion_matrix(cm, classes,\n",
    "                          normalize=False,\n",
    "                          title='Confusion matrix',\n",
    "                          cmap=plt.cm.Blues):\n",
    "    #Add Normalization Option\n",
    "    if normalize:\n",
    "        cm = cm.astype('float') / cm.sum(axis=1)[:, np.newaxis]\n",
    "        print(\"Normalized confusion matrix\")\n",
    "    else:\n",
    "        print('Confusion matrix, without normalization')\n",
    "\n",
    "    print(cm)\n",
    "\n",
    "    plt.imshow(cm, interpolation='nearest', cmap=cmap)\n",
    "    plt.title(title)\n",
    "    plt.colorbar()\n",
    "    tick_marks = np.arange(len(classes))\n",
    "    plt.xticks(tick_marks, classes, rotation=45)\n",
    "    plt.yticks(tick_marks, classes)\n",
    "\n",
    "    fmt = '.2f' if normalize else 'd'\n",
    "    thresh = cm.max() / 2.\n",
    "    for i, j in itertools.product(range(cm.shape[0]), range(cm.shape[1])):\n",
    "        plt.text(j, i, format(cm[i, j], fmt),\n",
    "                 horizontalalignment=\"center\",\n",
    "                 color=\"white\" if cm[i, j] > thresh else \"black\")\n",
    "\n",
    "    plt.tight_layout()\n",
    "    plt.ylabel('True label')\n",
    "    plt.xlabel('Predicted label')"
   ]
  },
  {
   "cell_type": "code",
   "execution_count": 46,
   "metadata": {},
   "outputs": [
    {
     "name": "stdout",
     "output_type": "stream",
     "text": [
      "Normalized confusion matrix\n",
      "[[0.88378566 0.11621434]\n",
      " [0.68247269 0.31752731]]\n"
     ]
    },
    {
     "data": {
      "image/png": "[encoded data removed]",
      "text/plain": [
       "<Figure size 432x288 with 2 Axes>"
      ]
     },
     "metadata": {
      "needs_background": "light"
     },
     "output_type": "display_data"
    }
   ],
   "source": [
    "import numpy as np\n",
    "import itertools\n",
    "\n",
    "plt.figure()\n",
    "class_names=set(y)\n",
    "plot_confusion_matrix(cnf_matrix, classes=class_names,normalize=True,\n",
    "                      title='Normalized confusion matrix')\n",
    "\n",
    "plt.show()"
   ]
  },
  {
   "cell_type": "markdown",
   "metadata": {},
   "source": [
    "The model seems better at predicting True Negative case, ie predicting that a user will be inactive next month based on previous month usage. However, it is bad (less than random chance of 50%) at predicting a usere becomes active despite inactivity over the last month. Overall accuracy is (0.76+0.48)/2=62%."
   ]
  },
  {
   "cell_type": "code",
   "execution_count": 49,
   "metadata": {},
   "outputs": [],
   "source": [
    "#ROC curve\n",
    "\n",
    "from sklearn.metrics import roc_curve, auc,f1_score\n",
    "\n",
    "#First calculate the probability scores of each of the datapoints:\n",
    "y_score = model_log.decision_function(X_test)\n",
    "\n",
    "fpr, tpr, thresholds = roc_curve(y_test, y_score)\n",
    "\n",
    "y_train_score = model_log.decision_function(X_train)\n",
    "train_fpr, train_tpr, thresholds = roc_curve(y_train, y_train_score)"
   ]
  },
  {
   "cell_type": "code",
   "execution_count": 51,
   "metadata": {},
   "outputs": [
    {
     "name": "stdout",
     "output_type": "stream",
     "text": [
      "AUC: 0.7428967246519558\n"
     ]
    },
    {
     "data": {
      "image/png": "[encoded data removed]",
      "text/plain": [
       "<Figure size 360x360 with 1 Axes>"
      ]
     },
     "metadata": {},
     "output_type": "display_data"
    },
    {
     "name": "stdout",
     "output_type": "stream",
     "text": [
      "f1: 0.4660075284652993\n"
     ]
    }
   ],
   "source": [
    "import matplotlib.pyplot as plt\n",
    "import seaborn as sns\n",
    "%matplotlib inline\n",
    "\n",
    "#Seaborns Beautiful Styling\n",
    "sns.set_style(\"darkgrid\", {\"axes.facecolor\": \".9\"})\n",
    "\n",
    "plt.figure(figsize=(5,5))\n",
    "lw = 2\n",
    "plt.plot(fpr, tpr, color='darkorange',\n",
    "         lw=lw, label='ROC curve')\n",
    "plt.plot([0, 1], [0, 1], color='navy', lw=lw, linestyle='--')\n",
    "plt.xlim([0.0, 1.0])\n",
    "plt.ylim([0.0, 1.05])\n",
    "plt.yticks([i/20.0 for i in range(21)])\n",
    "plt.xticks([i/20.0 for i in range(21)])\n",
    "plt.xlabel('False Positive Rate')\n",
    "plt.ylabel('True Positive Rate')\n",
    "plt.title('Receiver operating characteristic (ROC) Curve for Test Set')\n",
    "plt.legend(loc=\"lower right\")\n",
    "print('AUC: {}'.format(auc(fpr, tpr)))\n",
    "plt.show()\n",
    "print('f1: {}'.format(f1_score(y_test, model_log.predict(X_test),average='weighted')))"
   ]
  },
  {
   "cell_type": "code",
   "execution_count": 53,
   "metadata": {},
   "outputs": [],
   "source": [
    "#Try Decision Tree Model\n",
    "from sklearn.tree import DecisionTreeClassifier \n",
    "from sklearn.metrics import accuracy_score, roc_curve, auc\n",
    "from sklearn import tree \n"
   ]
  },
  {
   "cell_type": "code",
   "execution_count": 67,
   "metadata": {},
   "outputs": [],
   "source": [
    "#Default parameters\n",
    "clf= DecisionTreeClassifier(random_state=1)\n",
    "clf.fit(X_train,y_train) \n",
    "y_pred = clf.predict(X_test)"
   ]
  },
  {
   "cell_type": "code",
   "execution_count": 68,
   "metadata": {},
   "outputs": [
    {
     "name": "stdout",
     "output_type": "stream",
     "text": [
      "f1: 0.7085436933450922\n",
      "Accuracy is :69.36870997255261\n",
      "\n",
      "AUC is :0.68\n",
      "\n",
      "Confusion Matrix\n",
      "----------------\n",
      "Normalized confusion matrix\n",
      "[[0.84989555 0.15010445]\n",
      " [0.55392621 0.44607379]]\n"
     ]
    },
    {
     "data": {
      "image/png": "[encoded data removed]",
      "text/plain": [
       "<Figure size 432x288 with 2 Axes>"
      ]
     },
     "metadata": {},
     "output_type": "display_data"
    }
   ],
   "source": [
    "#Evaluating the Decision Tree Model\n",
    "print('f1: {}'.format(f1_score(y_test, y_pred, average='weighted')))\n",
    "\n",
    "acc = accuracy_score(y_test,y_pred) * 100\n",
    "print(\"Accuracy is :{0}\".format(acc))\n",
    "\n",
    "# Check the AUC for predictions\n",
    "false_positive_rate, true_positive_rate, thresholds = roc_curve(y_test, y_pred)\n",
    "roc_auc = auc(false_positive_rate, true_positive_rate)\n",
    "print(\"\\nAUC is :{0}\".format(round(roc_auc,2)))\n",
    "\n",
    "# Create and print a confusion matrix \n",
    "print('\\nConfusion Matrix')\n",
    "print('----------------')\n",
    "pd.crosstab(y_test, y_pred, rownames=['True'], colnames=['Predicted'], margins=True)\n",
    "\n",
    "\n",
    "\n",
    "plt.figure()\n",
    "class_names=set(y)\n",
    "cnf_matrix = confusion_matrix(y_pred, y_test)\n",
    "plot_confusion_matrix(cnf_matrix, classes=class_names,normalize=True,\n",
    "                      title='Normalized confusion matrix')\n",
    "\n",
    "plt.show()"
   ]
  },
  {
   "cell_type": "code",
   "execution_count": 40,
   "metadata": {},
   "outputs": [
    {
     "name": "stdout",
     "output_type": "stream",
     "text": [
      "AUC: 0.7052471645965929\n"
     ]
    },
    {
     "data": {
      "image/png": "[encoded data removed]",
      "text/plain": [
       "<Figure size 720x576 with 1 Axes>"
      ]
     },
     "metadata": {},
     "output_type": "display_data"
    }
   ],
   "source": [
    "#Seaborns Beautiful Styling\n",
    "sns.set_style(\"darkgrid\", {\"axes.facecolor\": \".9\"})\n",
    "\n",
    "plt.figure(figsize=(10,8))\n",
    "lw = 2\n",
    "plt.plot(false_positive_rate, true_positive_rate, color='darkorange',\n",
    "         lw=lw, label='ROC curve')\n",
    "plt.plot([0, 1], [0, 1], color='navy', lw=lw, linestyle='--')\n",
    "plt.xlim([0.0, 1.0])\n",
    "plt.ylim([0.0, 1.05])\n",
    "plt.yticks([i/20.0 for i in range(21)])\n",
    "plt.xticks([i/20.0 for i in range(21)])\n",
    "plt.xlabel('False Positive Rate')\n",
    "plt.ylabel('True Positive Rate')\n",
    "plt.title('Receiver operating characteristic (ROC) Curve for Test Set')\n",
    "plt.legend(loc=\"lower right\")\n",
    "print('AUC: {}'.format(auc(false_positive_rate, true_positive_rate)))\n",
    "plt.show()"
   ]
  },
  {
   "cell_type": "markdown",
   "metadata": {},
   "source": [
    "The AUC of 70% is worse than Logistic Regression Result."
   ]
  },
  {
   "cell_type": "code",
   "execution_count": 59,
   "metadata": {},
   "outputs": [
    {
     "data": {
      "image/png": "[encoded data removed]",
      "text/plain": [
       "<Figure size 864x432 with 1 Axes>"
      ]
     },
     "metadata": {},
     "output_type": "display_data"
    }
   ],
   "source": [
    "#Fine Tuning parameters:\n",
    "# 1. Identify the optimal tree depth for given data\n",
    "\n",
    "max_depths=np.linspace(1,10,10, endpoint=True)\n",
    "train_results=[]\n",
    "test_results=[]\n",
    "for max_depth in max_depths:\n",
    "    dt=DecisionTreeClassifier(criterion='entropy', max_depth=max_depth)\n",
    "    dt.fit(X_train, y_train)\n",
    "    train_pred=dt.predict(X_train)\n",
    "    fpr,tpr,thresholds=roc_curve(y_train, train_pred)\n",
    "    roc_auc=auc(fpr, tpr)\n",
    "    train_results.append(roc_auc)\n",
    "    y_pred=dt.predict(X_test)\n",
    "    fpr, tpr, thresholds=roc_curve(y_test, y_pred)\n",
    "    roc_auc=auc(fpr, tpr)\n",
    "    test_results.append(roc_auc)\n",
    "plt.figure(figsize=(12,6))\n",
    "plt.plot(max_depths, train_results, 'b', label='train auc')\n",
    "plt.plot(max_depths, test_results, 'r', label='test auc')\n",
    "plt.ylabel('AUC score')\n",
    "plt.xlabel('Tree depth')\n",
    "plt.legend()\n",
    "plt.show()\n",
    "\n"
   ]
  },
  {
   "cell_type": "markdown",
   "metadata": {},
   "source": [
    "Training error decreases with increasing tree depth - sign of over fitting.\n",
    "Test error is static after depth=3 - marginal improvement of less than 2% to learn from deeper trees.\n",
    "Optimal value seen here is between 5 to 6."
   ]
  },
  {
   "cell_type": "code",
   "execution_count": 60,
   "metadata": {},
   "outputs": [
    {
     "data": {
      "image/png": "[encoded data removed]",
      "text/plain": [
       "<Figure size 864x432 with 1 Axes>"
      ]
     },
     "metadata": {},
     "output_type": "display_data"
    }
   ],
   "source": [
    "# Identify the optimal min-samples-split for given data\n",
    "\n",
    "min_sample_splits=np.linspace(2, 11, 10, endpoint=True)\n",
    "train_results=[]\n",
    "test_results=[]\n",
    "for mss in min_sample_splits:\n",
    "    dt=DecisionTreeClassifier(criterion='entropy', min_samples_split=int(mss))\n",
    "    dt.fit(X_train, y_train)\n",
    "    train_pred=dt.predict(X_train)\n",
    "    fpr, tpr, thresholds=roc_curve(y_train, train_pred)\n",
    "    roc_auc=auc(fpr, tpr)\n",
    "    train_results.append(roc_auc)\n",
    "    \n",
    "    y_pred=dt.predict(X_test)\n",
    "    fpr, tpr, thresholds=roc_curve(y_test, y_pred)\n",
    "    roc_auc=auc(fpr, tpr)\n",
    "    test_results.append(roc_auc)\n",
    "plt.figure(figsize=(12,6))\n",
    "plt.plot(min_sample_splits, train_results, 'b', label='Train AUC')\n",
    "plt.plot(min_sample_splits, test_results, 'r', label='Test AUC')\n",
    "plt.xlabel('Min. Sample splits')\n",
    "plt.legend()\n",
    "plt.show()"
   ]
  },
  {
   "cell_type": "markdown",
   "metadata": {},
   "source": [
    "Best Test AUC occurs at around 2, 3 for both curves."
   ]
  },
  {
   "cell_type": "code",
   "execution_count": 61,
   "metadata": {},
   "outputs": [
    {
     "data": {
      "image/png": "[encoded data removed]",
      "text/plain": [
       "<Figure size 864x432 with 1 Axes>"
      ]
     },
     "metadata": {},
     "output_type": "display_data"
    }
   ],
   "source": [
    "# Calculate the optimal value for minimum sample leafs\n",
    "min_samples_leafs=np.linspace(0.1,0.5, 8, endpoint=True)\n",
    "train_results=[]\n",
    "test_results=[]\n",
    "for msl in min_samples_leafs:\n",
    "    dt=DecisionTreeClassifier(criterion='entropy', min_samples_leaf=msl)\n",
    "    dt.fit(X_train, y_train)\n",
    "    train_pred=dt.predict(X_train)\n",
    "    fpr, tpr, thesholds=roc_curve(y_train, train_pred)\n",
    "    roc_auc=auc(fpr, tpr)\n",
    "    train_results.append(roc_auc)\n",
    "    \n",
    "    y_pred=dt.predict(X_test)\n",
    "    fpr, tpr, thresholds=roc_curve(y_test, y_pred)\n",
    "    roc_auc=auc(fpr, tpr)\n",
    "    test_results.append(roc_auc)\n",
    "    \n",
    "plt.figure(figsize=(12,6))\n",
    "plt.plot(min_samples_leafs, train_results, 'b', label='train auc')\n",
    "plt.plot(min_samples_leafs, test_results, 'r', label='test auc')\n",
    "plt.show()"
   ]
  },
  {
   "cell_type": "code",
   "execution_count": 62,
   "metadata": {},
   "outputs": [
    {
     "data": {
      "image/png": "[encoded data removed]",
      "text/plain": [
       "<Figure size 864x432 with 1 Axes>"
      ]
     },
     "metadata": {},
     "output_type": "display_data"
    }
   ],
   "source": [
    "# Find the best value for optimal maximum feature size\n",
    "\n",
    "max_features=list(range(1, X_train.shape[1]))\n",
    "train_results=[]\n",
    "test_results=[]\n",
    "for max_feature in max_features:\n",
    "    dt=DecisionTreeClassifier(criterion='entropy', max_features=max_feature)\n",
    "    dt.fit(X_train, y_train)\n",
    "    train_pred=dt.predict(X_train)\n",
    "    fpr, tpr, t=roc_curve(y_train, train_pred)\n",
    "    roc_auc=auc(fpr, tpr)\n",
    "    train_results.append(roc_auc)\n",
    "    \n",
    "    y_pred=dt.predict(X_test)\n",
    "    fpr, tpr, t=roc_curve(y_test, y_pred)\n",
    "    roc_auc=auc(fpr, tpr)\n",
    "    test_results.append(roc_auc)\n",
    "    \n",
    "plt.figure(figsize=(12,6))\n",
    "plt.plot(max_features, train_results, 'b',label='train auc')\n",
    "plt.plot(max_features, test_results, 'r', label='test auc')\n",
    "plt.show() "
   ]
  },
  {
   "cell_type": "markdown",
   "metadata": {},
   "source": [
    "no clear number, fluctuating, it seems 2 and 3 are the highest point for the test AUC. "
   ]
  },
  {
   "cell_type": "code",
   "execution_count": 63,
   "metadata": {},
   "outputs": [],
   "source": [
    "dt_param_grid = {\n",
    "    'criterion': ['gini', 'entropy'],\n",
    "    'max_depth': [4,5,6],\n",
    "    'min_samples_split': [ 2,3],\n",
    "    'max_features': [ 2, 3]\n",
    "}"
   ]
  },
  {
   "cell_type": "code",
   "execution_count": 64,
   "metadata": {},
   "outputs": [
    {
     "data": {
      "text/plain": [
       "GridSearchCV(cv=3, error_score='raise-deprecating',\n",
       "             estimator=DecisionTreeClassifier(class_weight=None,\n",
       "                                              criterion='gini', max_depth=None,\n",
       "                                              max_features=None,\n",
       "                                              max_leaf_nodes=None,\n",
       "                                              min_impurity_decrease=0.0,\n",
       "                                              min_impurity_split=None,\n",
       "                                              min_samples_leaf=1,\n",
       "                                              min_samples_split=2,\n",
       "                                              min_weight_fraction_leaf=0.0,\n",
       "                                              presort=False, random_state=10,\n",
       "                                              splitter='best'),\n",
       "             iid='warn', n_jobs=None,\n",
       "             param_grid={'criterion': ['gini', 'entropy'],\n",
       "                         'max_depth': [4, 5, 6], 'max_features': [2, 3],\n",
       "                         'min_samples_split': [2, 3]},\n",
       "             pre_dispatch='2*n_jobs', refit=True, return_train_score=True,\n",
       "             scoring='f1', verbose=0)"
      ]
     },
     "execution_count": 64,
     "metadata": {},
     "output_type": "execute_result"
    }
   ],
   "source": [
    "dt_grid_search = GridSearchCV(clf, dt_param_grid, cv=3, return_train_score=True, scoring=\"f1\")\n",
    "dt_grid_search.fit(X_train, y_train)"
   ]
  },
  {
   "cell_type": "code",
   "execution_count": 65,
   "metadata": {},
   "outputs": [
    {
     "name": "stdout",
     "output_type": "stream",
     "text": [
      "Mean Training Score: 68.29%\n",
      "Mean Testing Score: 70.52%\n",
      "Best Parameter Combination Found During Grid Search:\n"
     ]
    },
    {
     "data": {
      "text/plain": [
       "{'criterion': 'gini',\n",
       " 'max_depth': 6,\n",
       " 'max_features': 3,\n",
       " 'min_samples_split': 2}"
      ]
     },
     "execution_count": 65,
     "metadata": {},
     "output_type": "execute_result"
    }
   ],
   "source": [
    "dt_gs_training_score = np.mean(dt_grid_search.cv_results_['mean_train_score'])\n",
    "dt_gs_testing_score = dt_grid_search.score(X_train, y_train)\n",
    "\n",
    "\n",
    "print(\"Mean Training Score: {:.4}%\".format(dt_gs_training_score * 100))\n",
    "print(\"Mean Testing Score: {:.4}%\".format(dt_gs_testing_score * 100))\n",
    "print(\"Best Parameter Combination Found During Grid Search:\")\n",
    "dt_grid_search.best_params_"
   ]
  },
  {
   "cell_type": "markdown",
   "metadata": {},
   "source": [
    "With the optimal parameters, we were able to improve the accuracy by 10% from 80% to 91%."
   ]
  },
  {
   "cell_type": "code",
   "execution_count": 66,
   "metadata": {},
   "outputs": [
    {
     "name": "stdout",
     "output_type": "stream",
     "text": [
      "ROC is:  0.6800451141999431\n",
      "f1: 0.7234367166817407\n",
      "Accuracy is:  0.7127172918572735\n",
      "Normalized confusion matrix\n",
      "[[0.74944016 0.25055984]\n",
      " [0.38934993 0.61065007]]\n"
     ]
    },
    {
     "data": {
      "image/png": "[encoded data removed]",
      "text/plain": [
       "<Figure size 432x288 with 2 Axes>"
      ]
     },
     "metadata": {},
     "output_type": "display_data"
    }
   ],
   "source": [
    "\n",
    "# train a classifier with optimal values identified above\n",
    "dt = DecisionTreeClassifier(criterion='gini',\n",
    "                           max_features=6,\n",
    "                           max_depth=3,\n",
    "                           min_samples_split=2, random_state=1\n",
    "                        \n",
    "                           )\n",
    "dt.fit(X_train,y_train)\n",
    "y_pred=dt.predict(X_test)\n",
    "fpr, tpr, t=roc_curve(y_test, y_pred)\n",
    "roc_auc=auc(fpr, tpr)\n",
    "print('ROC is: ', roc_auc)\n",
    "\n",
    "print('f1: {}'.format(f1_score(y_test, y_pred,average='weighted')))\n",
    "\n",
    "ac = accuracy_score(y_test,y_pred)\n",
    "print('Accuracy is: ',ac)\n",
    "cm = confusion_matrix(y_test,y_pred)\n",
    "class_names=set(y)\n",
    "plot_confusion_matrix(cm, classes=class_names,normalize=True,\n",
    "                      title='Normalized confusion matrix in y_test')"
   ]
  },
  {
   "cell_type": "markdown",
   "metadata": {},
   "source": [
    "Optimized parameters performed better in predicting True Positive cases (when an user is active), performed better in F1 than the default Decision Tree parameters."
   ]
  },
  {
   "cell_type": "code",
   "execution_count": 69,
   "metadata": {},
   "outputs": [],
   "source": [
    "#Try Random Forest\n",
    "from sklearn.ensemble import RandomForestClassifier, AdaBoostClassifier\n",
    "rf_clf = RandomForestClassifier(random_state=1)\n"
   ]
  },
  {
   "cell_type": "code",
   "execution_count": 70,
   "metadata": {},
   "outputs": [
    {
     "name": "stdout",
     "output_type": "stream",
     "text": [
      "f1: 0.726215206970387\n",
      "Testing Accuracy: 70.66%\n",
      "Optimal Parameters: {'criterion': 'gini', 'max_depth': 5, 'max_features': 5, 'min_samples_split': 3, 'n_estimators': 30}\n"
     ]
    }
   ],
   "source": [
    "rf_param_grid = {\n",
    "    'n_estimators': [10, 30, 100],\n",
    "    'criterion': ['gini', 'entropy'],\n",
    "    'max_depth': [3, 4,5],\n",
    "    'min_samples_split': [ 2,3],\n",
    "    'max_features': [ 4, 5]\n",
    "\n",
    "}\n",
    "rf_grid_search = GridSearchCV(rf_clf, rf_param_grid, cv=3)\n",
    "rf_grid_search.fit(X_train, y_train)\n",
    "\n",
    "\n",
    "print(\"Optimal Parameters: {}\".format(rf_grid_search.best_params_))"
   ]
  },
  {
   "cell_type": "code",
   "execution_count": 71,
   "metadata": {},
   "outputs": [
    {
     "name": "stdout",
     "output_type": "stream",
     "text": [
      "ROC is:  0.6970212720559362\n",
      "f1: 0.726215206970387\n",
      "Accuracy is:  0.7132662397072278\n",
      "Normalized confusion matrix\n",
      "[[0.73152526 0.26847474]\n",
      " [0.33748271 0.66251729]]\n"
     ]
    },
    {
     "data": {
      "image/png": "[encoded data removed]",
      "text/plain": [
       "<Figure size 432x288 with 2 Axes>"
      ]
     },
     "metadata": {},
     "output_type": "display_data"
    }
   ],
   "source": [
    "y_pred=rf_grid_search.predict(X_test)\n",
    "fpr, tpr, t=roc_curve(y_test, y_pred)\n",
    "roc_auc=auc(fpr, tpr)\n",
    "print('ROC is: ', roc_auc)\n",
    "\n",
    "print('f1: {}'.format(f1_score(y_test, rf_grid_search.predict(X_test),average='weighted')))\n",
    "\n",
    "ac = accuracy_score(y_test,y_pred)\n",
    "print('Accuracy is: ',ac)\n",
    "cm = confusion_matrix(y_test,y_pred)\n",
    "class_names=set(y)\n",
    "plot_confusion_matrix(cm, classes=class_names,normalize=True,\n",
    "                      title='Normalized confusion matrix in y_test')"
   ]
  },
  {
   "cell_type": "markdown",
   "metadata": {},
   "source": [
    "Parameter tuning improved performance marginally, by about 2%. Compare to baseline.\n"
   ]
  },
  {
   "cell_type": "code",
   "execution_count": 75,
   "metadata": {},
   "outputs": [
    {
     "name": "stderr",
     "output_type": "stream",
     "text": [
      "/Users/Alex/anaconda3/envs/stan_env/lib/python3.6/site-packages/sklearn/ensemble/forest.py:245: FutureWarning: The default value of n_estimators will change from 10 in version 0.20 to 100 in 0.22.\n",
      "  \"10 in version 0.20 to 100 in 0.22.\", FutureWarning)\n"
     ]
    },
    {
     "data": {
      "image/png": "[encoded data removed]",
      "text/plain": [
       "<Figure size 720x576 with 1 Axes>"
      ]
     },
     "metadata": {},
     "output_type": "display_data"
    }
   ],
   "source": [
    "rf_clf.fit(X_train,y_train)\n",
    "importances = rf_clf.feature_importances_\n",
    "std = np.std([tree.feature_importances_ for tree in rf_clf.estimators_],\n",
    "             axis=0)\n",
    "indices = np.argsort(importances)[::-1]\n",
    "plt.figure(1, figsize=(10, 8))\n",
    "plt.title(\"Feature importances\")\n",
    "plt.bar(range(X_train.shape[1]), importances[indices],\n",
    "       color=\"g\", yerr=std[indices], align=\"center\")\n",
    "plt.xticks(range(X_train.shape[1]), X_train.columns[indices],rotation=90)\n",
    "plt.xlim([-1, X_train.shape[1]])\n",
    "plt.show()"
   ]
  },
  {
   "cell_type": "markdown",
   "metadata": {},
   "source": [
    "Feature importance graph also reinforced the result above on 'max feature'. The top 4 features explains 70% of the outcome."
   ]
  },
  {
   "cell_type": "code",
   "execution_count": 72,
   "metadata": {},
   "outputs": [
    {
     "name": "stdout",
     "output_type": "stream",
     "text": [
      "ROC is:  0.6942716254086313\n",
      "f1: 0.726215206970387\n",
      "Accuracy is:  0.7297346752058554\n",
      "Normalized confusion matrix\n",
      "[[0.76959443 0.23040557]\n",
      " [0.38105118 0.61894882]]\n"
     ]
    },
    {
     "data": {
      "image/png": "[encoded data removed]",
      "text/plain": [
       "<Figure size 432x288 with 2 Axes>"
      ]
     },
     "metadata": {},
     "output_type": "display_data"
    }
   ],
   "source": [
    "adaboost_clf = AdaBoostClassifier(random_state=1)\n",
    "adaboost_clf.fit(X_train,y_train)\n",
    "\n",
    "y_pred=adaboost_clf.predict(X_test)\n",
    "fpr, tpr, t=roc_curve(y_test, y_pred)\n",
    "roc_auc=auc(fpr, tpr)\n",
    "print('ROC is: ', roc_auc)\n",
    "\n",
    "print('f1: {}'.format(f1_score(y_test, rf_grid_search.predict(X_test),average='weighted')))\n",
    "\n",
    "ac = accuracy_score(y_test,y_pred)\n",
    "print('Accuracy is: ',ac)\n",
    "cm = confusion_matrix(y_test,y_pred)\n",
    "class_names=set(y)\n",
    "plot_confusion_matrix(cm, classes=class_names,normalize=True,\n",
    "                      title='Normalized confusion matrix in y_test')"
   ]
  },
  {
   "cell_type": "markdown",
   "metadata": {},
   "source": [
    "Adaboost is similar to Random Forest, marginal worse on AUC."
   ]
  },
  {
   "cell_type": "code",
   "execution_count": 73,
   "metadata": {},
   "outputs": [],
   "source": [
    "df_names=[May18, Jun18,Jul18,Aug18,Sep18,Oct18,Nov18, Dec18, Jan19, Feb19, Mar19]\n",
    "\n",
    "user=[]\n",
    "user_list_may=[]\n",
    "user_list_may.append(len(May18))\n",
    "for idx, name in enumerate(df_names):\n",
    "    \n",
    "    try:\n",
    "        y=pd.concat([May18,df_names[idx+1]], axis=1, join=\"inner\")\n",
    "        user_list_may.append(y.shape[0])\n",
    "    except IndexError:\n",
    "        continue\n",
    "\n",
    "user_list_jun=[]\n",
    "user_list_jun.append(len(Jun18))\n",
    "for idx, name in enumerate(df_names):\n",
    "    try:\n",
    "        y=pd.concat([Jun18,df_names[idx+2]], axis=1, join=\"inner\")\n",
    "        user_list_jun.append(y.shape[0])\n",
    "    except IndexError:\n",
    "        continue\n",
    "        \n",
    "user_list_jul=[]\n",
    "user_list_jul.append(len(Jul18))\n",
    "for idx, name in enumerate(df_names):\n",
    "    try:\n",
    "        y=pd.concat([Jul18,df_names[idx+3]], axis=1, join=\"inner\")\n",
    "        user_list_jul.append(y.shape[0])\n",
    "    except IndexError:\n",
    "        continue\n",
    "        \n",
    "user_list_aug=[]\n",
    "user_list_aug.append(len(Aug18))\n",
    "for idx, name in enumerate(df_names):\n",
    "    try:\n",
    "        y=pd.concat([Aug18,df_names[idx+4]], axis=1, join=\"inner\")\n",
    "        user_list_aug.append(y.shape[0])\n",
    "    except IndexError:\n",
    "        continue"
   ]
  },
  {
   "cell_type": "code",
   "execution_count": 74,
   "metadata": {},
   "outputs": [
    {
     "data": {
      "text/plain": [
       "<matplotlib.legend.Legend at 0x1a242bc5f8>"
      ]
     },
     "execution_count": 74,
     "metadata": {},
     "output_type": "execute_result"
    },
    {
     "data": {
      "image/png": "[encoded data removed]",
      "text/plain": [
       "<Figure size 432x288 with 1 Axes>"
      ]
     },
     "metadata": {},
     "output_type": "display_data"
    }
   ],
   "source": [
    "plt.plot(user_list_may, label='May')\n",
    "plt.plot(user_list_jun, label='Jun')\n",
    "plt.plot(user_list_jul, label='Jul')\n",
    "plt.plot(user_list_aug, label='Aug')\n",
    "plt.legend()"
   ]
  },
  {
   "cell_type": "code",
   "execution_count": null,
   "metadata": {},
   "outputs": [],
   "source": []
  }
 ],
 "metadata": {
  "kernelspec": {
   "display_name": "stan_env",
   "language": "python",
   "name": "stan_env"
  },
  "language_info": {
   "codemirror_mode": {
    "name": "ipython",
    "version": 3
   },
   "file_extension": ".py",
   "mimetype": "text/x-python",
   "name": "python",
   "nbconvert_exporter": "python",
   "pygments_lexer": "ipython3",
   "version": "3.6.8"
  }
 },
 "nbformat": 4,
 "nbformat_minor": 2
}
