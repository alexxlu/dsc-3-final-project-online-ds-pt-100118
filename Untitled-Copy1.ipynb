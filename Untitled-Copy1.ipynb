{
 "cells": [
  {
   "cell_type": "code",
   "execution_count": 1,
   "metadata": {},
   "outputs": [],
   "source": [
    "import pandas as pd\n",
    "from sklearn.linear_model import LogisticRegression\n",
    "from sklearn.model_selection import train_test_split, GridSearchCV, cross_val_score\n"
   ]
  },
  {
   "cell_type": "code",
   "execution_count": 2,
   "metadata": {},
   "outputs": [],
   "source": [
    "def df_format(df):\n",
    "    \n",
    "    df.rename(columns={ df.columns[0]: \"ID\" }, inplace=True)\n",
    "    df.set_index('ID',inplace=True)\n",
    "    df.columns=df.columns.str.replace(\" \",\"_\")\n",
    "    df[df.select_dtypes(include=['number']).columns] *= (24*60)\n",
    "    try:\n",
    "        df['total-pw-setting']=(df['Grand_Total']-df['Forgot_password']-df['Settings']-df['Activate'])\n",
    "        df['Target']=df['total-pw-setting'].apply(lambda x: 0 if x<3 else 1)\n",
    "        df.drop(['(blank)','Grand_Total'], axis=1, inplace=True)\n",
    "    except KeyError:\n",
    "        return \n",
    "    "
   ]
  },
  {
   "cell_type": "code",
   "execution_count": 3,
   "metadata": {},
   "outputs": [
    {
     "data": {
      "text/plain": [
       "\"\\nfor name in file_names:\\n    \\n    temp=name+'.xlsx'\\n    name=pd.read_excel(temp)\\n    df_format(name)\\n\\n#print(file_xlsx)\\n\\n\""
      ]
     },
     "execution_count": 3,
     "metadata": {},
     "output_type": "execute_result"
    }
   ],
   "source": [
    "names=['MonthlySummary', 'May18', 'Jun18','Jul18','Aug18','Sep18','Oct18','Nov18', 'Dec18', 'Jan19', 'Feb19', 'Mar19']\n",
    "col=['ID', 'May18', 'Jun18','Jul18','Aug18','Sep18','Oct18','Nov18', 'Dec18', 'Jan19', 'Feb19', 'Mar19']\n",
    "file_xlsx=[]\n",
    "df_names=['MonthlySummary', 'may18', 'jun18','jul18','Aug18','Sep18','Oct18','Nov18', 'Dec18', 'Jan19', 'Feb19', 'Mar19']\n",
    "df_comb=pd.DataFrame()\n",
    "\n",
    "'''\n",
    "for name in file_names:\n",
    "    \n",
    "    temp=name+'.xlsx'\n",
    "    name=pd.read_excel(temp)\n",
    "    df_format(name)\n",
    "\n",
    "#print(file_xlsx)\n",
    "\n",
    "'''\n"
   ]
  },
  {
   "cell_type": "code",
   "execution_count": null,
   "metadata": {},
   "outputs": [],
   "source": []
  },
  {
   "cell_type": "code",
   "execution_count": 6,
   "metadata": {},
   "outputs": [],
   "source": [
    "MonthlySummary=pd.read_excel('MonthlySummary.xlsx')\n",
    "May18=pd.read_excel('May18.xlsx')\n",
    "Jun18=pd.read_excel('Jun18.xlsx')\n",
    "Jul18=pd.read_excel('Jul18.xlsx')\n",
    "Aug18=pd.read_excel('Aug18.xlsx')\n",
    "Sep18=pd.read_excel('Sep18.xlsx')\n",
    "Oct18=pd.read_excel('Oct18.xlsx')\n",
    "Nov18=pd.read_excel('Nov18.xlsx')\n",
    "Dec18=pd.read_excel('Dec18.xlsx')\n",
    "Jan19=pd.read_excel('Jan19.xlsx')\n",
    "Feb19=pd.read_excel('Feb19.xlsx')\n",
    "Mar19=pd.read_excel('Mar19.xlsx')"
   ]
  },
  {
   "cell_type": "code",
   "execution_count": null,
   "metadata": {},
   "outputs": [],
   "source": []
  },
  {
   "cell_type": "code",
   "execution_count": null,
   "metadata": {},
   "outputs": [],
   "source": []
  },
  {
   "cell_type": "code",
   "execution_count": 8,
   "metadata": {},
   "outputs": [],
   "source": [
    "df_format(May18)\n",
    "df_format(Jun18)\n",
    "df_format(Jul18)\n",
    "df_format(Aug18)\n",
    "df_format(Sep18)\n",
    "df_format(Oct18)\n",
    "df_format(Nov18)\n",
    "df_format(Dec18)\n",
    "df_format(Jan19)\n",
    "df_format(Feb19)\n",
    "df_format(Mar19)"
   ]
  },
  {
   "cell_type": "code",
   "execution_count": 10,
   "metadata": {},
   "outputs": [
    {
     "data": {
      "text/plain": [
       "\"\\ndf_target=pd.concat([May18.Target,Jun18.Target, jul18.Target], axis=1,join='outer', sort=True)\\n#df_target=pd.DataFrame(columns=MS_df.columns)\\n#df_target.columns=MS_df.columns\\ndf_target.head()\\n\""
      ]
     },
     "execution_count": 10,
     "metadata": {},
     "output_type": "execute_result"
    }
   ],
   "source": [
    "'''\n",
    "df_target=pd.concat([May18.Target,Jun18.Target, jul18.Target], axis=1,join='outer', sort=True)\n",
    "#df_target=pd.DataFrame(columns=MS_df.columns)\n",
    "#df_target.columns=MS_df.columns\n",
    "df_target.head()\n",
    "'''"
   ]
  },
  {
   "cell_type": "code",
   "execution_count": null,
   "metadata": {},
   "outputs": [],
   "source": []
  },
  {
   "cell_type": "code",
   "execution_count": 12,
   "metadata": {},
   "outputs": [
    {
     "data": {
      "text/html": [
       "<div>\n",
       "<style scoped>\n",
       "    .dataframe tbody tr th:only-of-type {\n",
       "        vertical-align: middle;\n",
       "    }\n",
       "\n",
       "    .dataframe tbody tr th {\n",
       "        vertical-align: top;\n",
       "    }\n",
       "\n",
       "    .dataframe thead th {\n",
       "        text-align: right;\n",
       "    }\n",
       "</style>\n",
       "<table border=\"1\" class=\"dataframe\">\n",
       "  <thead>\n",
       "    <tr style=\"text-align: right;\">\n",
       "      <th></th>\n",
       "      <th>Activate</th>\n",
       "      <th>Breakdown</th>\n",
       "      <th>Challenge</th>\n",
       "      <th>Energy_History</th>\n",
       "      <th>Energy_Reports</th>\n",
       "      <th>Feed</th>\n",
       "      <th>Forgot_password</th>\n",
       "      <th>Other</th>\n",
       "      <th>Settings</th>\n",
       "      <th>Trend</th>\n",
       "      <th>total-pw-setting</th>\n",
       "      <th>Target</th>\n",
       "    </tr>\n",
       "    <tr>\n",
       "      <th>ID</th>\n",
       "      <th></th>\n",
       "      <th></th>\n",
       "      <th></th>\n",
       "      <th></th>\n",
       "      <th></th>\n",
       "      <th></th>\n",
       "      <th></th>\n",
       "      <th></th>\n",
       "      <th></th>\n",
       "      <th></th>\n",
       "      <th></th>\n",
       "      <th></th>\n",
       "    </tr>\n",
       "  </thead>\n",
       "  <tbody>\n",
       "    <tr>\n",
       "      <th>ABDHFCJIDCF</th>\n",
       "      <td>0.0</td>\n",
       "      <td>0.000000</td>\n",
       "      <td>0.000000</td>\n",
       "      <td>0.000000</td>\n",
       "      <td>0.000000</td>\n",
       "      <td>0.770250</td>\n",
       "      <td>0.0000</td>\n",
       "      <td>0.691683</td>\n",
       "      <td>10.692783</td>\n",
       "      <td>0.857233</td>\n",
       "      <td>2.319167</td>\n",
       "      <td>1</td>\n",
       "    </tr>\n",
       "    <tr>\n",
       "      <th>ABDHGHGIDGD</th>\n",
       "      <td>0.0</td>\n",
       "      <td>2.173883</td>\n",
       "      <td>0.000000</td>\n",
       "      <td>0.185200</td>\n",
       "      <td>2.342733</td>\n",
       "      <td>1.650767</td>\n",
       "      <td>0.0000</td>\n",
       "      <td>0.000000</td>\n",
       "      <td>0.000000</td>\n",
       "      <td>1.576650</td>\n",
       "      <td>7.929233</td>\n",
       "      <td>1</td>\n",
       "    </tr>\n",
       "    <tr>\n",
       "      <th>ABEGFGFCCAI</th>\n",
       "      <td>0.0</td>\n",
       "      <td>5.532900</td>\n",
       "      <td>1.020917</td>\n",
       "      <td>16.544500</td>\n",
       "      <td>4.483817</td>\n",
       "      <td>4.754350</td>\n",
       "      <td>0.7303</td>\n",
       "      <td>0.000000</td>\n",
       "      <td>4.336717</td>\n",
       "      <td>1.968683</td>\n",
       "      <td>34.305167</td>\n",
       "      <td>0</td>\n",
       "    </tr>\n",
       "    <tr>\n",
       "      <th>ABEMGELDDIC</th>\n",
       "      <td>0.0</td>\n",
       "      <td>3.401117</td>\n",
       "      <td>0.303483</td>\n",
       "      <td>0.866283</td>\n",
       "      <td>2.902100</td>\n",
       "      <td>2.243750</td>\n",
       "      <td>0.0000</td>\n",
       "      <td>0.000000</td>\n",
       "      <td>12.313850</td>\n",
       "      <td>8.189450</td>\n",
       "      <td>17.906183</td>\n",
       "      <td>1</td>\n",
       "    </tr>\n",
       "    <tr>\n",
       "      <th>ABFHFIJJEGC</th>\n",
       "      <td>0.0</td>\n",
       "      <td>3.716900</td>\n",
       "      <td>1.021683</td>\n",
       "      <td>2.196500</td>\n",
       "      <td>7.875067</td>\n",
       "      <td>3.144817</td>\n",
       "      <td>0.0000</td>\n",
       "      <td>0.000000</td>\n",
       "      <td>6.252467</td>\n",
       "      <td>2.053500</td>\n",
       "      <td>20.008467</td>\n",
       "      <td>1</td>\n",
       "    </tr>\n",
       "  </tbody>\n",
       "</table>\n",
       "</div>"
      ],
      "text/plain": [
       "             Activate  Breakdown  Challenge  Energy_History  Energy_Reports  \\\n",
       "ID                                                                            \n",
       "ABDHFCJIDCF       0.0   0.000000   0.000000        0.000000        0.000000   \n",
       "ABDHGHGIDGD       0.0   2.173883   0.000000        0.185200        2.342733   \n",
       "ABEGFGFCCAI       0.0   5.532900   1.020917       16.544500        4.483817   \n",
       "ABEMGELDDIC       0.0   3.401117   0.303483        0.866283        2.902100   \n",
       "ABFHFIJJEGC       0.0   3.716900   1.021683        2.196500        7.875067   \n",
       "\n",
       "                 Feed  Forgot_password     Other   Settings     Trend  \\\n",
       "ID                                                                      \n",
       "ABDHFCJIDCF  0.770250           0.0000  0.691683  10.692783  0.857233   \n",
       "ABDHGHGIDGD  1.650767           0.0000  0.000000   0.000000  1.576650   \n",
       "ABEGFGFCCAI  4.754350           0.7303  0.000000   4.336717  1.968683   \n",
       "ABEMGELDDIC  2.243750           0.0000  0.000000  12.313850  8.189450   \n",
       "ABFHFIJJEGC  3.144817           0.0000  0.000000   6.252467  2.053500   \n",
       "\n",
       "             total-pw-setting  Target  \n",
       "ID                                     \n",
       "ABDHFCJIDCF          2.319167       1  \n",
       "ABDHGHGIDGD          7.929233       1  \n",
       "ABEGFGFCCAI         34.305167       0  \n",
       "ABEMGELDDIC         17.906183       1  \n",
       "ABFHFIJJEGC         20.008467       1  "
      ]
     },
     "execution_count": 12,
     "metadata": {},
     "output_type": "execute_result"
    }
   ],
   "source": [
    "df_target_jun18=pd.merge(May18.iloc[:,0:11],Jun18.Target,left_index=True, right_index=True, how=\"inner\")\n",
    "df_target_jul18=pd.merge(Jun18.iloc[:,0:11],Jul18.Target,left_index=True, right_index=True, how=\"inner\")\n",
    "df_target_Aug18=pd.merge(Jul18.iloc[:,0:11],Aug18.Target,left_index=True, right_index=True, how=\"inner\")\n",
    "df_target_Sep18=pd.merge(Aug18.iloc[:,0:11],Sep18.Target,left_index=True, right_index=True, how=\"inner\")\n",
    "df_target_Oct18=pd.merge(Sep18.iloc[:,0:11],Oct18.Target,left_index=True, right_index=True, how=\"inner\")\n",
    "df_target_Nov18=pd.merge(Oct18.iloc[:,0:11],Nov18.Target,left_index=True, right_index=True, how=\"inner\")\n",
    "df_target_Dec18=pd.merge(Nov18.iloc[:,0:11],Dec18.Target,left_index=True, right_index=True, how=\"inner\")\n",
    "df_target_Jan19=pd.merge(Dec18.iloc[:,0:11],Jan19.Target,left_index=True, right_index=True, how=\"inner\")\n",
    "df_target_Feb19=pd.merge(Jan19.iloc[:,0:11],Feb19.Target,left_index=True, right_index=True, how=\"inner\")\n",
    "df_target_Mar19=pd.merge(Feb19.iloc[:,0:11],Mar19.Target,left_index=True, right_index=True, how=\"inner\")\n",
    "\n",
    "df_comb=pd.concat([df_target_jun18,df_target_jul18,df_target_jul18,df_target_jul18], sort=False)\n",
    "df.describe()"
   ]
  },
  {
   "cell_type": "markdown",
   "metadata": {},
   "source": [
    "Start Modeling with Jun18 Data first."
   ]
  },
  {
   "cell_type": "code",
   "execution_count": 14,
   "metadata": {},
   "outputs": [
    {
     "data": {
      "image/png": "[encoded data removed]",
      "text/plain": [
       "<Figure size 1440x720 with 1 Axes>"
      ]
     },
     "metadata": {
      "needs_background": "light"
     },
     "output_type": "display_data"
    }
   ],
   "source": [
    "import matplotlib.pyplot as plt\n",
    "%matplotlib inline\n",
    "import seaborn as sns\n",
    "\n",
    "plt.figure(figsize=(20, 10))\n",
    "plt.boxplot([df_target_jun18[col] for col in df_target_jun18.columns[:-3]])\n",
    "plt.title(\"Box plot for each screen usage time\")\n",
    "plt.xticks(range(len(df_target_jun18.columns[:-2].values)), df_target_jun18.columns[:-2].values)\n",
    "plt.show()"
   ]
  },
  {
   "cell_type": "code",
   "execution_count": null,
   "metadata": {},
   "outputs": [],
   "source": []
  },
  {
   "cell_type": "code",
   "execution_count": 246,
   "metadata": {},
   "outputs": [
    {
     "data": {
      "text/html": [
       "<div>\n",
       "<style scoped>\n",
       "    .dataframe tbody tr th:only-of-type {\n",
       "        vertical-align: middle;\n",
       "    }\n",
       "\n",
       "    .dataframe tbody tr th {\n",
       "        vertical-align: top;\n",
       "    }\n",
       "\n",
       "    .dataframe thead th {\n",
       "        text-align: right;\n",
       "    }\n",
       "</style>\n",
       "<table border=\"1\" class=\"dataframe\">\n",
       "  <thead>\n",
       "    <tr style=\"text-align: right;\">\n",
       "      <th></th>\n",
       "      <th>Activate</th>\n",
       "      <th>Breakdown</th>\n",
       "      <th>Challenge</th>\n",
       "      <th>Energy_History</th>\n",
       "      <th>Energy_Reports</th>\n",
       "      <th>Feed</th>\n",
       "      <th>Forgot_password</th>\n",
       "      <th>Other</th>\n",
       "      <th>Settings</th>\n",
       "      <th>Trend</th>\n",
       "      <th>total-pw-setting</th>\n",
       "      <th>Target</th>\n",
       "    </tr>\n",
       "  </thead>\n",
       "  <tbody>\n",
       "    <tr>\n",
       "      <th>count</th>\n",
       "      <td>289.000000</td>\n",
       "      <td>289.000000</td>\n",
       "      <td>289.000000</td>\n",
       "      <td>289.000000</td>\n",
       "      <td>289.000000</td>\n",
       "      <td>289.000000</td>\n",
       "      <td>289.000000</td>\n",
       "      <td>289.000000</td>\n",
       "      <td>289.000000</td>\n",
       "      <td>289.000000</td>\n",
       "      <td>289.000000</td>\n",
       "      <td>289.000000</td>\n",
       "    </tr>\n",
       "    <tr>\n",
       "      <th>mean</th>\n",
       "      <td>0.014640</td>\n",
       "      <td>1.380779</td>\n",
       "      <td>0.302558</td>\n",
       "      <td>2.263637</td>\n",
       "      <td>1.352171</td>\n",
       "      <td>0.819982</td>\n",
       "      <td>0.038505</td>\n",
       "      <td>0.053737</td>\n",
       "      <td>1.699849</td>\n",
       "      <td>2.279588</td>\n",
       "      <td>8.452451</td>\n",
       "      <td>0.138408</td>\n",
       "    </tr>\n",
       "    <tr>\n",
       "      <th>std</th>\n",
       "      <td>0.089312</td>\n",
       "      <td>2.403345</td>\n",
       "      <td>1.011028</td>\n",
       "      <td>4.227933</td>\n",
       "      <td>2.494943</td>\n",
       "      <td>1.074247</td>\n",
       "      <td>0.222643</td>\n",
       "      <td>0.257004</td>\n",
       "      <td>2.425639</td>\n",
       "      <td>4.367126</td>\n",
       "      <td>11.532599</td>\n",
       "      <td>0.345927</td>\n",
       "    </tr>\n",
       "    <tr>\n",
       "      <th>min</th>\n",
       "      <td>0.000000</td>\n",
       "      <td>0.000000</td>\n",
       "      <td>0.000000</td>\n",
       "      <td>0.000000</td>\n",
       "      <td>0.000000</td>\n",
       "      <td>0.000000</td>\n",
       "      <td>0.000000</td>\n",
       "      <td>0.000000</td>\n",
       "      <td>0.000000</td>\n",
       "      <td>0.000000</td>\n",
       "      <td>0.000000</td>\n",
       "      <td>0.000000</td>\n",
       "    </tr>\n",
       "    <tr>\n",
       "      <th>25%</th>\n",
       "      <td>0.000000</td>\n",
       "      <td>0.035800</td>\n",
       "      <td>0.000000</td>\n",
       "      <td>0.039050</td>\n",
       "      <td>0.018150</td>\n",
       "      <td>0.075333</td>\n",
       "      <td>0.000000</td>\n",
       "      <td>0.000000</td>\n",
       "      <td>0.000000</td>\n",
       "      <td>0.162400</td>\n",
       "      <td>1.483217</td>\n",
       "      <td>0.000000</td>\n",
       "    </tr>\n",
       "    <tr>\n",
       "      <th>50%</th>\n",
       "      <td>0.000000</td>\n",
       "      <td>0.412483</td>\n",
       "      <td>0.000000</td>\n",
       "      <td>0.707767</td>\n",
       "      <td>0.576633</td>\n",
       "      <td>0.507567</td>\n",
       "      <td>0.000000</td>\n",
       "      <td>0.000000</td>\n",
       "      <td>0.383417</td>\n",
       "      <td>0.814917</td>\n",
       "      <td>4.289367</td>\n",
       "      <td>0.000000</td>\n",
       "    </tr>\n",
       "    <tr>\n",
       "      <th>75%</th>\n",
       "      <td>0.000000</td>\n",
       "      <td>1.589150</td>\n",
       "      <td>0.172050</td>\n",
       "      <td>2.860967</td>\n",
       "      <td>1.631350</td>\n",
       "      <td>1.121017</td>\n",
       "      <td>0.000000</td>\n",
       "      <td>0.000000</td>\n",
       "      <td>2.880233</td>\n",
       "      <td>2.252250</td>\n",
       "      <td>9.817567</td>\n",
       "      <td>0.000000</td>\n",
       "    </tr>\n",
       "    <tr>\n",
       "      <th>max</th>\n",
       "      <td>0.842483</td>\n",
       "      <td>16.950950</td>\n",
       "      <td>12.073300</td>\n",
       "      <td>37.342950</td>\n",
       "      <td>23.217867</td>\n",
       "      <td>8.447083</td>\n",
       "      <td>2.883783</td>\n",
       "      <td>2.559183</td>\n",
       "      <td>12.416417</td>\n",
       "      <td>31.183800</td>\n",
       "      <td>74.173183</td>\n",
       "      <td>1.000000</td>\n",
       "    </tr>\n",
       "  </tbody>\n",
       "</table>\n",
       "</div>"
      ],
      "text/plain": [
       "         Activate   Breakdown   Challenge  Energy_History  Energy_Reports  \\\n",
       "count  289.000000  289.000000  289.000000      289.000000      289.000000   \n",
       "mean     0.014640    1.380779    0.302558        2.263637        1.352171   \n",
       "std      0.089312    2.403345    1.011028        4.227933        2.494943   \n",
       "min      0.000000    0.000000    0.000000        0.000000        0.000000   \n",
       "25%      0.000000    0.035800    0.000000        0.039050        0.018150   \n",
       "50%      0.000000    0.412483    0.000000        0.707767        0.576633   \n",
       "75%      0.000000    1.589150    0.172050        2.860967        1.631350   \n",
       "max      0.842483   16.950950   12.073300       37.342950       23.217867   \n",
       "\n",
       "             Feed  Forgot_password       Other    Settings       Trend  \\\n",
       "count  289.000000       289.000000  289.000000  289.000000  289.000000   \n",
       "mean     0.819982         0.038505    0.053737    1.699849    2.279588   \n",
       "std      1.074247         0.222643    0.257004    2.425639    4.367126   \n",
       "min      0.000000         0.000000    0.000000    0.000000    0.000000   \n",
       "25%      0.075333         0.000000    0.000000    0.000000    0.162400   \n",
       "50%      0.507567         0.000000    0.000000    0.383417    0.814917   \n",
       "75%      1.121017         0.000000    0.000000    2.880233    2.252250   \n",
       "max      8.447083         2.883783    2.559183   12.416417   31.183800   \n",
       "\n",
       "       total-pw-setting      Target  \n",
       "count        289.000000  289.000000  \n",
       "mean           8.452451    0.138408  \n",
       "std           11.532599    0.345927  \n",
       "min            0.000000    0.000000  \n",
       "25%            1.483217    0.000000  \n",
       "50%            4.289367    0.000000  \n",
       "75%            9.817567    0.000000  \n",
       "max           74.173183    1.000000  "
      ]
     },
     "execution_count": 246,
     "metadata": {},
     "output_type": "execute_result"
    }
   ],
   "source": [
    "df_target_jun18.describe()"
   ]
  },
  {
   "cell_type": "code",
   "execution_count": 247,
   "metadata": {},
   "outputs": [
    {
     "data": {
      "text/html": [
       "<div>\n",
       "<style scoped>\n",
       "    .dataframe tbody tr th:only-of-type {\n",
       "        vertical-align: middle;\n",
       "    }\n",
       "\n",
       "    .dataframe tbody tr th {\n",
       "        vertical-align: top;\n",
       "    }\n",
       "\n",
       "    .dataframe thead th {\n",
       "        text-align: right;\n",
       "    }\n",
       "</style>\n",
       "<table border=\"1\" class=\"dataframe\">\n",
       "  <thead>\n",
       "    <tr style=\"text-align: right;\">\n",
       "      <th></th>\n",
       "      <th>Activate</th>\n",
       "      <th>Breakdown</th>\n",
       "      <th>Challenge</th>\n",
       "      <th>Energy_History</th>\n",
       "      <th>Energy_Reports</th>\n",
       "      <th>Feed</th>\n",
       "      <th>Forgot_password</th>\n",
       "      <th>Other</th>\n",
       "      <th>Settings</th>\n",
       "      <th>Trend</th>\n",
       "    </tr>\n",
       "    <tr>\n",
       "      <th>ID</th>\n",
       "      <th></th>\n",
       "      <th></th>\n",
       "      <th></th>\n",
       "      <th></th>\n",
       "      <th></th>\n",
       "      <th></th>\n",
       "      <th></th>\n",
       "      <th></th>\n",
       "      <th></th>\n",
       "      <th></th>\n",
       "    </tr>\n",
       "  </thead>\n",
       "  <tbody>\n",
       "    <tr>\n",
       "      <th>BJJIIDMAEFI</th>\n",
       "      <td>0.000000</td>\n",
       "      <td>2.096267</td>\n",
       "      <td>0.211067</td>\n",
       "      <td>8.511833</td>\n",
       "      <td>3.886867</td>\n",
       "      <td>3.007867</td>\n",
       "      <td>0.000000</td>\n",
       "      <td>0.0</td>\n",
       "      <td>0.929867</td>\n",
       "      <td>1.650283</td>\n",
       "    </tr>\n",
       "    <tr>\n",
       "      <th>BJDJFJHHEJH</th>\n",
       "      <td>0.000000</td>\n",
       "      <td>1.703450</td>\n",
       "      <td>0.000000</td>\n",
       "      <td>0.042833</td>\n",
       "      <td>2.542017</td>\n",
       "      <td>1.548267</td>\n",
       "      <td>0.000000</td>\n",
       "      <td>0.0</td>\n",
       "      <td>7.289333</td>\n",
       "      <td>1.996250</td>\n",
       "    </tr>\n",
       "    <tr>\n",
       "      <th>BDLIIHGEEGG</th>\n",
       "      <td>0.000000</td>\n",
       "      <td>0.000000</td>\n",
       "      <td>0.000000</td>\n",
       "      <td>0.000000</td>\n",
       "      <td>0.000000</td>\n",
       "      <td>0.648800</td>\n",
       "      <td>0.000000</td>\n",
       "      <td>0.0</td>\n",
       "      <td>0.000000</td>\n",
       "      <td>0.000000</td>\n",
       "    </tr>\n",
       "    <tr>\n",
       "      <th>BHGLKDGADGB</th>\n",
       "      <td>0.000000</td>\n",
       "      <td>10.984383</td>\n",
       "      <td>0.000000</td>\n",
       "      <td>3.967817</td>\n",
       "      <td>2.397567</td>\n",
       "      <td>1.086300</td>\n",
       "      <td>0.000000</td>\n",
       "      <td>0.0</td>\n",
       "      <td>0.762917</td>\n",
       "      <td>2.475400</td>\n",
       "    </tr>\n",
       "    <tr>\n",
       "      <th>BJEJGJDBDEE</th>\n",
       "      <td>0.353317</td>\n",
       "      <td>0.000000</td>\n",
       "      <td>0.278750</td>\n",
       "      <td>4.947133</td>\n",
       "      <td>6.626350</td>\n",
       "      <td>0.000000</td>\n",
       "      <td>0.809517</td>\n",
       "      <td>0.0</td>\n",
       "      <td>2.094417</td>\n",
       "      <td>1.196717</td>\n",
       "    </tr>\n",
       "  </tbody>\n",
       "</table>\n",
       "</div>"
      ],
      "text/plain": [
       "             Activate  Breakdown  Challenge  Energy_History  Energy_Reports  \\\n",
       "ID                                                                            \n",
       "BJJIIDMAEFI  0.000000   2.096267   0.211067        8.511833        3.886867   \n",
       "BJDJFJHHEJH  0.000000   1.703450   0.000000        0.042833        2.542017   \n",
       "BDLIIHGEEGG  0.000000   0.000000   0.000000        0.000000        0.000000   \n",
       "BHGLKDGADGB  0.000000  10.984383   0.000000        3.967817        2.397567   \n",
       "BJEJGJDBDEE  0.353317   0.000000   0.278750        4.947133        6.626350   \n",
       "\n",
       "                 Feed  Forgot_password  Other  Settings     Trend  \n",
       "ID                                                                 \n",
       "BJJIIDMAEFI  3.007867         0.000000    0.0  0.929867  1.650283  \n",
       "BJDJFJHHEJH  1.548267         0.000000    0.0  7.289333  1.996250  \n",
       "BDLIIHGEEGG  0.648800         0.000000    0.0  0.000000  0.000000  \n",
       "BHGLKDGADGB  1.086300         0.000000    0.0  0.762917  2.475400  \n",
       "BJEJGJDBDEE  0.000000         0.809517    0.0  2.094417  1.196717  "
      ]
     },
     "execution_count": 247,
     "metadata": {},
     "output_type": "execute_result"
    }
   ],
   "source": [
    "X = df_target_jun18[df_target_jun18.columns[:-2]]\n",
    "y = df_target_jun18.Target\n",
    "X_train, X_test, y_train, y_test=train_test_split(X,y,random_state=0)\n",
    "X_train.head()"
   ]
  },
  {
   "cell_type": "code",
   "execution_count": 248,
   "metadata": {},
   "outputs": [
    {
     "name": "stderr",
     "output_type": "stream",
     "text": [
      "/Users/Alex/anaconda3/envs/stan_env/lib/python3.6/site-packages/sklearn/linear_model/logistic.py:432: FutureWarning: Default solver will be changed to 'lbfgs' in 0.22. Specify a solver to silence this warning.\n",
      "  FutureWarning)\n"
     ]
    },
    {
     "data": {
      "text/plain": [
       "LogisticRegression(C=1000000000000.0, class_weight=None, dual=False,\n",
       "                   fit_intercept=False, intercept_scaling=1, l1_ratio=None,\n",
       "                   max_iter=100, multi_class='warn', n_jobs=None, penalty='l2',\n",
       "                   random_state=None, solver='warn', tol=0.0001, verbose=0,\n",
       "                   warm_start=False)"
      ]
     },
     "execution_count": 248,
     "metadata": {},
     "output_type": "execute_result"
    }
   ],
   "source": [
    "#Fit a Logistic Regression Model\n",
    "logreg = LogisticRegression(fit_intercept = False, C = 1e12) #Starter code\n",
    "model_log=logreg.fit(X_train, y_train)\n",
    "model_log"
   ]
  },
  {
   "cell_type": "code",
   "execution_count": 249,
   "metadata": {},
   "outputs": [],
   "source": [
    "#Predict\n",
    "y_hat_test=logreg.predict(X_test)\n",
    "y_hat_train=logreg.predict(X_train)"
   ]
  },
  {
   "cell_type": "code",
   "execution_count": 250,
   "metadata": {},
   "outputs": [
    {
     "name": "stdout",
     "output_type": "stream",
     "text": [
      " 0    179\n",
      " 1     23\n",
      "-1     14\n",
      "Name: Target, dtype: int64\n",
      " 0    0.828704\n",
      " 1    0.106481\n",
      "-1    0.064815\n",
      "Name: Target, dtype: float64\n"
     ]
    }
   ],
   "source": [
    "#Evaluation\n",
    "res=y_train-y_hat_train\n",
    "print(pd.Series(res).value_counts())\n",
    "print(pd.Series(res).value_counts(normalize=True))"
   ]
  },
  {
   "cell_type": "markdown",
   "metadata": {},
   "source": [
    "82.9% time that we are spot on!"
   ]
  },
  {
   "cell_type": "code",
   "execution_count": 251,
   "metadata": {},
   "outputs": [
    {
     "name": "stdout",
     "output_type": "stream",
     "text": [
      "Confusion Matrix:\n",
      " [[57  7]\n",
      " [ 9  0]]\n"
     ]
    }
   ],
   "source": [
    "#Confusion Matrix\n",
    "from sklearn.metrics import confusion_matrix\n",
    "\n",
    "cnf_matrix = confusion_matrix(y_hat_test, y_test)\n",
    "print('Confusion Matrix:\\n',cnf_matrix)"
   ]
  },
  {
   "cell_type": "code",
   "execution_count": 252,
   "metadata": {},
   "outputs": [],
   "source": [
    "#Make Confusion Matrix Pretty\n",
    "def plot_confusion_matrix(cm, classes,\n",
    "                          normalize=False,\n",
    "                          title='Confusion matrix',\n",
    "                          cmap=plt.cm.Blues):\n",
    "    #Add Normalization Option\n",
    "    if normalize:\n",
    "        cm = cm.astype('float') / cm.sum(axis=1)[:, np.newaxis]\n",
    "        print(\"Normalized confusion matrix\")\n",
    "    else:\n",
    "        print('Confusion matrix, without normalization')\n",
    "\n",
    "    print(cm)\n",
    "\n",
    "    plt.imshow(cm, interpolation='nearest', cmap=cmap)\n",
    "    plt.title(title)\n",
    "    plt.colorbar()\n",
    "    tick_marks = np.arange(len(classes))\n",
    "    plt.xticks(tick_marks, classes, rotation=45)\n",
    "    plt.yticks(tick_marks, classes)\n",
    "\n",
    "    fmt = '.2f' if normalize else 'd'\n",
    "    thresh = cm.max() / 2.\n",
    "    for i, j in itertools.product(range(cm.shape[0]), range(cm.shape[1])):\n",
    "        plt.text(j, i, format(cm[i, j], fmt),\n",
    "                 horizontalalignment=\"center\",\n",
    "                 color=\"white\" if cm[i, j] > thresh else \"black\")\n",
    "\n",
    "    plt.tight_layout()\n",
    "    plt.ylabel('True label')\n",
    "    plt.xlabel('Predicted label')"
   ]
  },
  {
   "cell_type": "code",
   "execution_count": 253,
   "metadata": {},
   "outputs": [
    {
     "name": "stdout",
     "output_type": "stream",
     "text": [
      "Normalized confusion matrix\n",
      "[[0.890625 0.109375]\n",
      " [1.       0.      ]]\n"
     ]
    },
    {
     "data": {
      "image/png": "[encoded data removed]",
      "text/plain": [
       "<Figure size 432x288 with 2 Axes>"
      ]
     },
     "metadata": {},
     "output_type": "display_data"
    }
   ],
   "source": [
    "\n",
    "plt.figure()\n",
    "plot_confusion_matrix(cnf_matrix, classes=class_names,normalize=True,\n",
    "                      title='Normalized confusion matrix')\n",
    "\n",
    "plt.show()"
   ]
  },
  {
   "cell_type": "markdown",
   "metadata": {},
   "source": [
    "The model seems very good at predicting True Negative case, ie predicting that a user will be inactive next month based on previous month usage. However, it is very bad predicting a usere becomes active despite inactivity over the last month."
   ]
  },
  {
   "cell_type": "code",
   "execution_count": 254,
   "metadata": {},
   "outputs": [],
   "source": [
    "#ROC curve\n",
    "from sklearn.metrics import roc_curve, auc\n",
    "\n",
    "#First calculate the probability scores of each of the datapoints:\n",
    "y_score = model_log.decision_function(X_test)\n",
    "\n",
    "fpr, tpr, thresholds = roc_curve(y_test, y_score)\n",
    "\n",
    "y_train_score = model_log.decision_function(X_train)\n",
    "train_fpr, train_tpr, thresholds = roc_curve(y_train, y_train_score)"
   ]
  },
  {
   "cell_type": "code",
   "execution_count": 255,
   "metadata": {},
   "outputs": [
    {
     "name": "stdout",
     "output_type": "stream",
     "text": [
      "AUC: 0.08874458874458872\n"
     ]
    },
    {
     "data": {
      "image/png": "[encoded data removed]",
      "text/plain": [
       "<Figure size 720x576 with 1 Axes>"
      ]
     },
     "metadata": {},
     "output_type": "display_data"
    }
   ],
   "source": [
    "import matplotlib.pyplot as plt\n",
    "import seaborn as sns\n",
    "%matplotlib inline\n",
    "\n",
    "#Seaborns Beautiful Styling\n",
    "sns.set_style(\"darkgrid\", {\"axes.facecolor\": \".9\"})\n",
    "\n",
    "plt.figure(figsize=(10,8))\n",
    "lw = 2\n",
    "plt.plot(fpr, tpr, color='darkorange',\n",
    "         lw=lw, label='ROC curve')\n",
    "plt.plot([0, 1], [0, 1], color='navy', lw=lw, linestyle='--')\n",
    "plt.xlim([0.0, 1.0])\n",
    "plt.ylim([0.0, 1.05])\n",
    "plt.yticks([i/20.0 for i in range(21)])\n",
    "plt.xticks([i/20.0 for i in range(21)])\n",
    "plt.xlabel('False Positive Rate')\n",
    "plt.ylabel('True Positive Rate')\n",
    "plt.title('Receiver operating characteristic (ROC) Curve for Test Set')\n",
    "plt.legend(loc=\"lower right\")\n",
    "print('AUC: {}'.format(auc(fpr, tpr)))\n",
    "plt.show()"
   ]
  },
  {
   "cell_type": "markdown",
   "metadata": {},
   "source": [
    "The ROC curve confirms that the LogReg model always get the negative case right."
   ]
  },
  {
   "cell_type": "code",
   "execution_count": 256,
   "metadata": {},
   "outputs": [],
   "source": [
    "#Try Decision Tree Model\n",
    "from sklearn.tree import DecisionTreeClassifier \n",
    "from sklearn.metrics import accuracy_score, roc_curve, auc\n",
    "from sklearn import tree \n"
   ]
  },
  {
   "cell_type": "code",
   "execution_count": 257,
   "metadata": {},
   "outputs": [],
   "source": [
    "\n",
    "clf= DecisionTreeClassifier(random_state=10)\n",
    "clf.fit(X_train,y_train) \n",
    "y_pred = clf.predict(X_test)"
   ]
  },
  {
   "cell_type": "code",
   "execution_count": 258,
   "metadata": {},
   "outputs": [
    {
     "name": "stdout",
     "output_type": "stream",
     "text": [
      "Accuracy is :84.93150684931507\n",
      "\n",
      "AUC is :0.66\n",
      "\n",
      "Confusion Matrix\n",
      "----------------\n"
     ]
    },
    {
     "data": {
      "text/html": [
       "<div>\n",
       "<style scoped>\n",
       "    .dataframe tbody tr th:only-of-type {\n",
       "        vertical-align: middle;\n",
       "    }\n",
       "\n",
       "    .dataframe tbody tr th {\n",
       "        vertical-align: top;\n",
       "    }\n",
       "\n",
       "    .dataframe thead th {\n",
       "        text-align: right;\n",
       "    }\n",
       "</style>\n",
       "<table border=\"1\" class=\"dataframe\">\n",
       "  <thead>\n",
       "    <tr style=\"text-align: right;\">\n",
       "      <th>Predicted</th>\n",
       "      <th>0</th>\n",
       "      <th>1</th>\n",
       "      <th>All</th>\n",
       "    </tr>\n",
       "    <tr>\n",
       "      <th>True</th>\n",
       "      <th></th>\n",
       "      <th></th>\n",
       "      <th></th>\n",
       "    </tr>\n",
       "  </thead>\n",
       "  <tbody>\n",
       "    <tr>\n",
       "      <th>0</th>\n",
       "      <td>59</td>\n",
       "      <td>7</td>\n",
       "      <td>66</td>\n",
       "    </tr>\n",
       "    <tr>\n",
       "      <th>1</th>\n",
       "      <td>4</td>\n",
       "      <td>3</td>\n",
       "      <td>7</td>\n",
       "    </tr>\n",
       "    <tr>\n",
       "      <th>All</th>\n",
       "      <td>63</td>\n",
       "      <td>10</td>\n",
       "      <td>73</td>\n",
       "    </tr>\n",
       "  </tbody>\n",
       "</table>\n",
       "</div>"
      ],
      "text/plain": [
       "Predicted   0   1  All\n",
       "True                  \n",
       "0          59   7   66\n",
       "1           4   3    7\n",
       "All        63  10   73"
      ]
     },
     "execution_count": 258,
     "metadata": {},
     "output_type": "execute_result"
    }
   ],
   "source": [
    "#Evaluating the Decision Tree Model\n",
    "acc = accuracy_score(y_test,y_pred) * 100\n",
    "print(\"Accuracy is :{0}\".format(acc))\n",
    "\n",
    "# Check the AUC for predictions\n",
    "false_positive_rate, true_positive_rate, thresholds = roc_curve(y_test, y_pred)\n",
    "roc_auc = auc(false_positive_rate, true_positive_rate)\n",
    "print(\"\\nAUC is :{0}\".format(round(roc_auc,2)))\n",
    "\n",
    "# Create and print a confusion matrix \n",
    "print('\\nConfusion Matrix')\n",
    "print('----------------')\n",
    "pd.crosstab(y_test, y_pred, rownames=['True'], colnames=['Predicted'], margins=True)"
   ]
  },
  {
   "cell_type": "code",
   "execution_count": 259,
   "metadata": {},
   "outputs": [],
   "source": [
    "#Re-grow the tree with 'Entropy'\n",
    "clf= DecisionTreeClassifier(random_state=10, criterion='entropy')\n",
    "clf.fit(X_train,y_train) \n",
    "y_pred = clf.predict(X_test)"
   ]
  },
  {
   "cell_type": "code",
   "execution_count": 260,
   "metadata": {},
   "outputs": [
    {
     "name": "stdout",
     "output_type": "stream",
     "text": [
      "Accuracy is :90.41095890410958\n",
      "\n",
      "AUC is :0.63\n",
      "\n",
      "Confusion Matrix\n",
      "----------------\n"
     ]
    },
    {
     "data": {
      "text/html": [
       "<div>\n",
       "<style scoped>\n",
       "    .dataframe tbody tr th:only-of-type {\n",
       "        vertical-align: middle;\n",
       "    }\n",
       "\n",
       "    .dataframe tbody tr th {\n",
       "        vertical-align: top;\n",
       "    }\n",
       "\n",
       "    .dataframe thead th {\n",
       "        text-align: right;\n",
       "    }\n",
       "</style>\n",
       "<table border=\"1\" class=\"dataframe\">\n",
       "  <thead>\n",
       "    <tr style=\"text-align: right;\">\n",
       "      <th>Predicted</th>\n",
       "      <th>0</th>\n",
       "      <th>1</th>\n",
       "      <th>All</th>\n",
       "    </tr>\n",
       "    <tr>\n",
       "      <th>True</th>\n",
       "      <th></th>\n",
       "      <th></th>\n",
       "      <th></th>\n",
       "    </tr>\n",
       "  </thead>\n",
       "  <tbody>\n",
       "    <tr>\n",
       "      <th>0</th>\n",
       "      <td>64</td>\n",
       "      <td>2</td>\n",
       "      <td>66</td>\n",
       "    </tr>\n",
       "    <tr>\n",
       "      <th>1</th>\n",
       "      <td>5</td>\n",
       "      <td>2</td>\n",
       "      <td>7</td>\n",
       "    </tr>\n",
       "    <tr>\n",
       "      <th>All</th>\n",
       "      <td>69</td>\n",
       "      <td>4</td>\n",
       "      <td>73</td>\n",
       "    </tr>\n",
       "  </tbody>\n",
       "</table>\n",
       "</div>"
      ],
      "text/plain": [
       "Predicted   0  1  All\n",
       "True                 \n",
       "0          64  2   66\n",
       "1           5  2    7\n",
       "All        69  4   73"
      ]
     },
     "execution_count": 260,
     "metadata": {},
     "output_type": "execute_result"
    }
   ],
   "source": [
    "#Evaluating the Decision Tree Model\n",
    "acc = accuracy_score(y_test,y_pred) * 100\n",
    "print(\"Accuracy is :{0}\".format(acc))\n",
    "\n",
    "# Check the AUC for predictions\n",
    "false_positive_rate, true_positive_rate, thresholds = roc_curve(y_test, y_pred)\n",
    "roc_auc = auc(false_positive_rate, true_positive_rate)\n",
    "print(\"\\nAUC is :{0}\".format(round(roc_auc,2)))\n",
    "\n",
    "# Create and print a confusion matrix \n",
    "print('\\nConfusion Matrix')\n",
    "print('----------------')\n",
    "pd.crosstab(y_test, y_pred, rownames=['True'], colnames=['Predicted'], margins=True)"
   ]
  },
  {
   "cell_type": "markdown",
   "metadata": {},
   "source": [
    "Accuracy is higher with 'Entropy' but lower AUC."
   ]
  },
  {
   "cell_type": "code",
   "execution_count": 278,
   "metadata": {},
   "outputs": [
    {
     "name": "stdout",
     "output_type": "stream",
     "text": [
      "Mean Cross Validation Score: 80.63%\n"
     ]
    }
   ],
   "source": [
    "dt_cv_score = cross_val_score(clf, X, y, cv=3)\n",
    "mean_dt_cv_score = np.mean(dt_cv_score)\n",
    "\n",
    "print(\"Mean Cross Validation Score: {:.4}%\".format(mean_dt_cv_score * 100))"
   ]
  },
  {
   "cell_type": "markdown",
   "metadata": {},
   "source": [
    "Our Basisline Decision Tree Model with Entropy seems performs well with 80% accuracy."
   ]
  },
  {
   "cell_type": "code",
   "execution_count": 261,
   "metadata": {},
   "outputs": [
    {
     "data": {
      "image/png": "[encoded data removed]",
      "text/plain": [
       "<Figure size 864x432 with 1 Axes>"
      ]
     },
     "metadata": {},
     "output_type": "display_data"
    }
   ],
   "source": [
    "#Fine Tuning parameters:\n",
    "# 1. Identify the optimal tree depth for given data\n",
    "\n",
    "max_depths=np.linspace(1,10,10, endpoint=True)\n",
    "train_results=[]\n",
    "test_results=[]\n",
    "for max_depth in max_depths:\n",
    "    dt=DecisionTreeClassifier(criterion='entropy', max_depth=max_depth)\n",
    "    dt.fit(X_train, y_train)\n",
    "    train_pred=dt.predict(X_train)\n",
    "    fpr,tpr,thresholds=roc_curve(y_train, train_pred)\n",
    "    roc_auc=auc(fpr, tpr)\n",
    "    train_results.append(roc_auc)\n",
    "    y_pred=dt.predict(X_test)\n",
    "    fpr, tpr, thresholds=roc_curve(y_test, y_pred)\n",
    "    roc_auc=auc(fpr, tpr)\n",
    "    test_results.append(roc_auc)\n",
    "plt.figure(figsize=(12,6))\n",
    "plt.plot(max_depths, train_results, 'b', label='train auc')\n",
    "plt.plot(max_depths, test_results, 'r', label='test auc')\n",
    "plt.ylabel('AUC score')\n",
    "plt.xlabel('Tree depth')\n",
    "plt.legend()\n",
    "plt.show()\n",
    "\n"
   ]
  },
  {
   "cell_type": "markdown",
   "metadata": {},
   "source": [
    "Training error decreases with increasing tree depth - sign of over fitting.\n",
    "Test error is static after depth=3 - nothing more to learn from deeper trees.\n",
    "Optimal value seen here is 3"
   ]
  },
  {
   "cell_type": "code",
   "execution_count": 303,
   "metadata": {},
   "outputs": [
    {
     "data": {
      "image/png": "[encoded data removed]",
      "text/plain": [
       "<Figure size 864x432 with 1 Axes>"
      ]
     },
     "metadata": {},
     "output_type": "display_data"
    }
   ],
   "source": [
    "# Identify the optimal min-samples-split for given data\n",
    "\n",
    "min_sample_splits=np.linspace(2, 11, 10, endpoint=True)\n",
    "train_results=[]\n",
    "test_results=[]\n",
    "for mss in min_sample_splits:\n",
    "    dt=DecisionTreeClassifier(criterion='entropy', min_samples_split=int(mss))\n",
    "    dt.fit(X_train, y_train)\n",
    "    train_pred=dt.predict(X_train)\n",
    "    fpr, tpr, thresholds=roc_curve(y_train, train_pred)\n",
    "    roc_auc=auc(fpr, tpr)\n",
    "    train_results.append(roc_auc)\n",
    "    \n",
    "    y_pred=dt.predict(X_test)\n",
    "    fpr, tpr, thresholds=roc_curve(y_test, y_pred)\n",
    "    roc_auc=auc(fpr, tpr)\n",
    "    test_results.append(roc_auc)\n",
    "plt.figure(figsize=(12,6))\n",
    "plt.plot(min_sample_splits, train_results, 'b', label='Train AUC')\n",
    "plt.plot(min_sample_splits, test_results, 'r', label='Test AUC')\n",
    "plt.xlabel('Min. Sample splits')\n",
    "plt.legend()\n",
    "plt.show()"
   ]
  },
  {
   "cell_type": "markdown",
   "metadata": {},
   "source": [
    "Best Test AUC occurs at around 3, 4 for both curves."
   ]
  },
  {
   "cell_type": "code",
   "execution_count": 263,
   "metadata": {},
   "outputs": [
    {
     "data": {
      "image/png": "[encoded data removed]",
      "text/plain": [
       "<Figure size 864x432 with 1 Axes>"
      ]
     },
     "metadata": {},
     "output_type": "display_data"
    }
   ],
   "source": [
    "# Calculate the optimal value for minimum sample leafs\n",
    "min_samples_leafs=np.linspace(0.1,0.5, 8, endpoint=True)\n",
    "train_results=[]\n",
    "test_results=[]\n",
    "for msl in min_samples_leafs:\n",
    "    dt=DecisionTreeClassifier(criterion='entropy', min_samples_leaf=msl)\n",
    "    dt.fit(X_train, y_train)\n",
    "    train_pred=dt.predict(X_train)\n",
    "    fpr, tpr, thesholds=roc_curve(y_train, train_pred)\n",
    "    roc_auc=auc(fpr, tpr)\n",
    "    train_results.append(roc_auc)\n",
    "    \n",
    "    y_pred=dt.predict(X_test)\n",
    "    fpr, tpr, thresholds=roc_curve(y_test, y_pred)\n",
    "    roc_auc=auc(fpr, tpr)\n",
    "    test_results.append(roc_auc)\n",
    "    \n",
    "plt.figure(figsize=(12,6))\n",
    "plt.plot(min_samples_leafs, train_results, 'b', label='train auc')\n",
    "plt.plot(min_samples_leafs, test_results, 'r', label='test auc')\n",
    "plt.show()"
   ]
  },
  {
   "cell_type": "code",
   "execution_count": 264,
   "metadata": {},
   "outputs": [
    {
     "data": {
      "image/png": "[encoded data removed]",
      "text/plain": [
       "<Figure size 864x432 with 1 Axes>"
      ]
     },
     "metadata": {},
     "output_type": "display_data"
    }
   ],
   "source": [
    "# Find the best value for optimal maximum feature size\n",
    "\n",
    "max_features=list(range(1, X_train.shape[1]))\n",
    "train_results=[]\n",
    "test_results=[]\n",
    "for max_feature in max_features:\n",
    "    dt=DecisionTreeClassifier(criterion='entropy', max_features=max_feature)\n",
    "    dt.fit(X_train, y_train)\n",
    "    train_pred=dt.predict(X_train)\n",
    "    fpr, tpr, t=roc_curve(y_train, train_pred)\n",
    "    roc_auc=auc(fpr, tpr)\n",
    "    train_results.append(roc_auc)\n",
    "    \n",
    "    y_pred=dt.predict(X_test)\n",
    "    fpr, tpr, t=roc_curve(y_test, y_pred)\n",
    "    roc_auc=auc(fpr, tpr)\n",
    "    test_results.append(roc_auc)\n",
    "    \n",
    "plt.figure(figsize=(12,6))\n",
    "plt.plot(max_features, train_results, 'b',label='train auc')\n",
    "plt.plot(max_features, test_results, 'r', label='test auc')\n",
    "plt.show() "
   ]
  },
  {
   "cell_type": "markdown",
   "metadata": {},
   "source": [
    "no clear number, fluctuating, it seems 5 is the highest point for the test AUC. go with max_features=5"
   ]
  },
  {
   "cell_type": "code",
   "execution_count": 304,
   "metadata": {},
   "outputs": [],
   "source": [
    "dt_param_grid = {\n",
    "    'criterion': ['gini', 'entropy'],\n",
    "    'max_depth': [2, 3, 4],\n",
    "    'min_samples_split': [ 3,4],\n",
    "    'max_features': [ 4, 5]\n",
    "}"
   ]
  },
  {
   "cell_type": "code",
   "execution_count": 305,
   "metadata": {},
   "outputs": [
    {
     "name": "stderr",
     "output_type": "stream",
     "text": [
      "/Users/Alex/anaconda3/envs/stan_env/lib/python3.6/site-packages/sklearn/model_selection/_search.py:813: DeprecationWarning: The default of the `iid` parameter will change from True to False in version 0.22 and will be removed in 0.24. This will change numeric results when test-set sizes are unequal.\n",
      "  DeprecationWarning)\n"
     ]
    },
    {
     "data": {
      "text/plain": [
       "GridSearchCV(cv=3, error_score='raise-deprecating',\n",
       "             estimator=DecisionTreeClassifier(class_weight=None,\n",
       "                                              criterion='entropy',\n",
       "                                              max_depth=None, max_features=None,\n",
       "                                              max_leaf_nodes=None,\n",
       "                                              min_impurity_decrease=0.0,\n",
       "                                              min_impurity_split=None,\n",
       "                                              min_samples_leaf=1,\n",
       "                                              min_samples_split=2,\n",
       "                                              min_weight_fraction_leaf=0.0,\n",
       "                                              presort=False, random_state=10,\n",
       "                                              splitter='best'),\n",
       "             iid='warn', n_jobs=None,\n",
       "             param_grid={'criterion': ['gini', 'entropy'],\n",
       "                         'max_depth': [2, 3, 4], 'max_features': [4, 5],\n",
       "                         'min_samples_split': [3, 4]},\n",
       "             pre_dispatch='2*n_jobs', refit=True, return_train_score=True,\n",
       "             scoring=None, verbose=0)"
      ]
     },
     "execution_count": 305,
     "metadata": {},
     "output_type": "execute_result"
    }
   ],
   "source": [
    "dt_grid_search = GridSearchCV(clf, dt_param_grid, cv=3, return_train_score=True)\n",
    "dt_grid_search.fit(X, y)"
   ]
  },
  {
   "cell_type": "code",
   "execution_count": 306,
   "metadata": {},
   "outputs": [
    {
     "name": "stdout",
     "output_type": "stream",
     "text": [
      "Mean Training Score: 90.47%\n",
      "Mean Testing Score: 91.0%\n",
      "Best Parameter Combination Found During Grid Search:\n"
     ]
    },
    {
     "data": {
      "text/plain": [
       "{'criterion': 'gini',\n",
       " 'max_depth': 3,\n",
       " 'max_features': 5,\n",
       " 'min_samples_split': 4}"
      ]
     },
     "execution_count": 306,
     "metadata": {},
     "output_type": "execute_result"
    }
   ],
   "source": [
    "dt_gs_training_score = np.mean(dt_grid_search.cv_results_['mean_train_score'])\n",
    "dt_gs_testing_score = dt_grid_search.score(X, y)\n",
    "\n",
    "\n",
    "print(\"Mean Training Score: {:.4}%\".format(dt_gs_training_score * 100))\n",
    "print(\"Mean Testing Score: {:.4}%\".format(dt_gs_testing_score * 100))\n",
    "print(\"Best Parameter Combination Found During Grid Search:\")\n",
    "dt_grid_search.best_params_"
   ]
  },
  {
   "cell_type": "markdown",
   "metadata": {},
   "source": [
    "With the optimal parameters, we were able to improve the accuracy by 10% from 80% to 91%."
   ]
  },
  {
   "cell_type": "code",
   "execution_count": 307,
   "metadata": {},
   "outputs": [
    {
     "data": {
      "text/plain": [
       "0.7142857142857143"
      ]
     },
     "execution_count": 307,
     "metadata": {},
     "output_type": "execute_result"
    }
   ],
   "source": [
    "\n",
    "# train a classifier with optimal values identified above\n",
    "dt = DecisionTreeClassifier(criterion='gini',\n",
    "                           max_features=5,\n",
    "                           max_depth=3,\n",
    "                           min_samples_split=4\n",
    "                           )\n",
    "dt.fit(X_train,y_train)\n",
    "y_pred=dt.predict(X_test)\n",
    "fpr, tpr, t=roc_curve(y_test, y_pred)\n",
    "roc_auc=auc(fpr, tpr)\n",
    "roc_auc"
   ]
  },
  {
   "cell_type": "code",
   "execution_count": 309,
   "metadata": {},
   "outputs": [
    {
     "name": "stdout",
     "output_type": "stream",
     "text": [
      "Mean Cross Validation Score for Random Forest Classifier: 85.81%\n"
     ]
    },
    {
     "name": "stderr",
     "output_type": "stream",
     "text": [
      "/Users/Alex/anaconda3/envs/stan_env/lib/python3.6/site-packages/sklearn/ensemble/forest.py:245: FutureWarning: The default value of n_estimators will change from 10 in version 0.20 to 100 in 0.22.\n",
      "  \"10 in version 0.20 to 100 in 0.22.\", FutureWarning)\n",
      "/Users/Alex/anaconda3/envs/stan_env/lib/python3.6/site-packages/sklearn/ensemble/forest.py:245: FutureWarning: The default value of n_estimators will change from 10 in version 0.20 to 100 in 0.22.\n",
      "  \"10 in version 0.20 to 100 in 0.22.\", FutureWarning)\n",
      "/Users/Alex/anaconda3/envs/stan_env/lib/python3.6/site-packages/sklearn/ensemble/forest.py:245: FutureWarning: The default value of n_estimators will change from 10 in version 0.20 to 100 in 0.22.\n",
      "  \"10 in version 0.20 to 100 in 0.22.\", FutureWarning)\n"
     ]
    }
   ],
   "source": [
    "#Try Random Forest\n",
    "from sklearn.ensemble import RandomForestClassifier, AdaBoostClassifier\n",
    "rf_clf = RandomForestClassifier()\n",
    "mean_rf_cv_score = np.mean(cross_val_score(rf_clf, X, y, cv=3))\n",
    "\n",
    "print(\"Mean Cross Validation Score for Random Forest Classifier: {:.4}%\".format(mean_rf_cv_score * 100))\n"
   ]
  },
  {
   "cell_type": "code",
   "execution_count": 310,
   "metadata": {},
   "outputs": [
    {
     "name": "stdout",
     "output_type": "stream",
     "text": [
      "Testing Accuracy: 87.89%\n",
      "\n",
      "Optimal Parameters: {'criterion': 'gini', 'max_depth': 2, 'max_features': 5, 'min_samples_split': 3, 'n_estimators': 30}\n"
     ]
    }
   ],
   "source": [
    "rf_param_grid = {\n",
    "    'n_estimators': [10, 30, 100],\n",
    "    'criterion': ['gini', 'entropy'],\n",
    "    'max_depth': [2, 3, 4],\n",
    "    'min_samples_split': [ 3,4],\n",
    "    'max_features': [ 4, 5]\n",
    "}\n",
    "rf_grid_search = GridSearchCV(rf_clf, rf_param_grid, cv=3)\n",
    "rf_grid_search.fit(X, y)\n",
    "\n",
    "print(\"Testing Accuracy: {:.4}%\".format(rf_grid_search.best_score_ * 100))\n",
    "\n",
    "print(\"\")\n",
    "print(\"Optimal Parameters: {}\".format(rf_grid_search.best_params_))"
   ]
  },
  {
   "cell_type": "markdown",
   "metadata": {},
   "source": [
    "Parameter tuning improved performance marginally, by about 2%. Compare to baseline, this is ~8% improvement from 80%, but very similar to optimal decision Tree, but shy by 3%.\n"
   ]
  },
  {
   "cell_type": "code",
   "execution_count": 311,
   "metadata": {},
   "outputs": [
    {
     "name": "stdout",
     "output_type": "stream",
     "text": [
      "Mean Cross Validation Score for AdaBoost: 83.4%\n"
     ]
    }
   ],
   "source": [
    "adaboost_clf = AdaBoostClassifier()\n",
    "adaboost_mean_cv_score = np.mean(cross_val_score(adaboost_clf, X, y, cv=3))\n",
    "\n",
    "print(\"Mean Cross Validation Score for AdaBoost: {:.4}%\".format(adaboost_mean_cv_score * 100))"
   ]
  },
  {
   "cell_type": "markdown",
   "metadata": {},
   "source": [
    "Adaboost is worse than DecisionTree and Random Forest in the May/June dataset."
   ]
  },
  {
   "cell_type": "markdown",
   "metadata": {},
   "source": [
    "Let's work with the entire database by combining/merging with July, Aug Data."
   ]
  },
  {
   "cell_type": "code",
   "execution_count": 313,
   "metadata": {},
   "outputs": [
    {
     "data": {
      "text/html": [
       "<div>\n",
       "<style scoped>\n",
       "    .dataframe tbody tr th:only-of-type {\n",
       "        vertical-align: middle;\n",
       "    }\n",
       "\n",
       "    .dataframe tbody tr th {\n",
       "        vertical-align: top;\n",
       "    }\n",
       "\n",
       "    .dataframe thead th {\n",
       "        text-align: right;\n",
       "    }\n",
       "</style>\n",
       "<table border=\"1\" class=\"dataframe\">\n",
       "  <thead>\n",
       "    <tr style=\"text-align: right;\">\n",
       "      <th></th>\n",
       "      <th>Activate</th>\n",
       "      <th>Breakdown</th>\n",
       "      <th>Challenge</th>\n",
       "      <th>Energy_History</th>\n",
       "      <th>Energy_Reports</th>\n",
       "      <th>Feed</th>\n",
       "      <th>Forgot_password</th>\n",
       "      <th>Other</th>\n",
       "      <th>Settings</th>\n",
       "      <th>Trend</th>\n",
       "      <th>Right_Now</th>\n",
       "      <th>Target</th>\n",
       "    </tr>\n",
       "    <tr>\n",
       "      <th>ID</th>\n",
       "      <th></th>\n",
       "      <th></th>\n",
       "      <th></th>\n",
       "      <th></th>\n",
       "      <th></th>\n",
       "      <th></th>\n",
       "      <th></th>\n",
       "      <th></th>\n",
       "      <th></th>\n",
       "      <th></th>\n",
       "      <th></th>\n",
       "      <th></th>\n",
       "    </tr>\n",
       "  </thead>\n",
       "  <tbody>\n",
       "    <tr>\n",
       "      <th>ABDHFCJIDCF</th>\n",
       "      <td>0</td>\n",
       "      <td>1.759283</td>\n",
       "      <td>0.000000</td>\n",
       "      <td>2.783817</td>\n",
       "      <td>0.269750</td>\n",
       "      <td>0.000000</td>\n",
       "      <td>0</td>\n",
       "      <td>0.0</td>\n",
       "      <td>0.000000</td>\n",
       "      <td>1.183317</td>\n",
       "      <td>0.0</td>\n",
       "      <td>1</td>\n",
       "    </tr>\n",
       "    <tr>\n",
       "      <th>ABDHGHGIDGD</th>\n",
       "      <td>0</td>\n",
       "      <td>1.623033</td>\n",
       "      <td>0.000000</td>\n",
       "      <td>2.357667</td>\n",
       "      <td>0.313583</td>\n",
       "      <td>0.000000</td>\n",
       "      <td>0</td>\n",
       "      <td>0.0</td>\n",
       "      <td>0.000000</td>\n",
       "      <td>2.244467</td>\n",
       "      <td>0.0</td>\n",
       "      <td>1</td>\n",
       "    </tr>\n",
       "    <tr>\n",
       "      <th>ABDIJHIHECC</th>\n",
       "      <td>0</td>\n",
       "      <td>0.000000</td>\n",
       "      <td>0.000000</td>\n",
       "      <td>0.000000</td>\n",
       "      <td>0.000000</td>\n",
       "      <td>0.097383</td>\n",
       "      <td>0</td>\n",
       "      <td>0.0</td>\n",
       "      <td>0.092500</td>\n",
       "      <td>0.263283</td>\n",
       "      <td>0.0</td>\n",
       "      <td>1</td>\n",
       "    </tr>\n",
       "    <tr>\n",
       "      <th>ABEEGDDDBDF</th>\n",
       "      <td>0</td>\n",
       "      <td>0.000000</td>\n",
       "      <td>0.000000</td>\n",
       "      <td>0.000000</td>\n",
       "      <td>0.000000</td>\n",
       "      <td>0.000000</td>\n",
       "      <td>0</td>\n",
       "      <td>0.0</td>\n",
       "      <td>0.000000</td>\n",
       "      <td>0.000000</td>\n",
       "      <td>0.0</td>\n",
       "      <td>0</td>\n",
       "    </tr>\n",
       "    <tr>\n",
       "      <th>ABEEJDDABBB</th>\n",
       "      <td>0</td>\n",
       "      <td>2.228500</td>\n",
       "      <td>0.283683</td>\n",
       "      <td>0.261467</td>\n",
       "      <td>0.000000</td>\n",
       "      <td>0.781067</td>\n",
       "      <td>0</td>\n",
       "      <td>0.0</td>\n",
       "      <td>0.082733</td>\n",
       "      <td>2.348783</td>\n",
       "      <td>0.0</td>\n",
       "      <td>1</td>\n",
       "    </tr>\n",
       "  </tbody>\n",
       "</table>\n",
       "</div>"
      ],
      "text/plain": [
       "             Activate  Breakdown  Challenge  Energy_History  Energy_Reports  \\\n",
       "ID                                                                            \n",
       "ABDHFCJIDCF         0   1.759283   0.000000        2.783817        0.269750   \n",
       "ABDHGHGIDGD         0   1.623033   0.000000        2.357667        0.313583   \n",
       "ABDIJHIHECC         0   0.000000   0.000000        0.000000        0.000000   \n",
       "ABEEGDDDBDF         0   0.000000   0.000000        0.000000        0.000000   \n",
       "ABEEJDDABBB         0   2.228500   0.283683        0.261467        0.000000   \n",
       "\n",
       "                 Feed  Forgot_password  Other  Settings     Trend  Right_Now  \\\n",
       "ID                                                                             \n",
       "ABDHFCJIDCF  0.000000                0    0.0  0.000000  1.183317        0.0   \n",
       "ABDHGHGIDGD  0.000000                0    0.0  0.000000  2.244467        0.0   \n",
       "ABDIJHIHECC  0.097383                0    0.0  0.092500  0.263283        0.0   \n",
       "ABEEGDDDBDF  0.000000                0    0.0  0.000000  0.000000        0.0   \n",
       "ABEEJDDABBB  0.781067                0    0.0  0.082733  2.348783        0.0   \n",
       "\n",
       "             Target  \n",
       "ID                   \n",
       "ABDHFCJIDCF       1  \n",
       "ABDHGHGIDGD       1  \n",
       "ABDIJHIHECC       1  \n",
       "ABEEGDDDBDF       0  \n",
       "ABEEJDDABBB       1  "
      ]
     },
     "execution_count": 313,
     "metadata": {},
     "output_type": "execute_result"
    }
   ],
   "source": [
    "df_target_jul18=pd.merge(jun18.iloc[:,0:11],jul18.Target,left_index=True, right_index=True, how=\"inner\")\n",
    "df_target_jul18.head()"
   ]
  },
  {
   "cell_type": "code",
   "execution_count": 324,
   "metadata": {},
   "outputs": [
    {
     "data": {
      "text/html": [
       "<div>\n",
       "<style scoped>\n",
       "    .dataframe tbody tr th:only-of-type {\n",
       "        vertical-align: middle;\n",
       "    }\n",
       "\n",
       "    .dataframe tbody tr th {\n",
       "        vertical-align: top;\n",
       "    }\n",
       "\n",
       "    .dataframe thead th {\n",
       "        text-align: right;\n",
       "    }\n",
       "</style>\n",
       "<table border=\"1\" class=\"dataframe\">\n",
       "  <thead>\n",
       "    <tr style=\"text-align: right;\">\n",
       "      <th></th>\n",
       "      <th>Activate</th>\n",
       "      <th>Breakdown</th>\n",
       "      <th>Challenge</th>\n",
       "      <th>Energy_History</th>\n",
       "      <th>Energy_Reports</th>\n",
       "      <th>Feed</th>\n",
       "      <th>Forgot_password</th>\n",
       "      <th>Other</th>\n",
       "      <th>Settings</th>\n",
       "      <th>Trend</th>\n",
       "      <th>total-pw-setting</th>\n",
       "      <th>Target</th>\n",
       "      <th>Right_Now</th>\n",
       "    </tr>\n",
       "  </thead>\n",
       "  <tbody>\n",
       "    <tr>\n",
       "      <th>count</th>\n",
       "      <td>979.000000</td>\n",
       "      <td>979.000000</td>\n",
       "      <td>979.000000</td>\n",
       "      <td>979.000000</td>\n",
       "      <td>979.000000</td>\n",
       "      <td>979.000000</td>\n",
       "      <td>979.000000</td>\n",
       "      <td>979.000000</td>\n",
       "      <td>979.000000</td>\n",
       "      <td>979.000000</td>\n",
       "      <td>289.000000</td>\n",
       "      <td>979.000000</td>\n",
       "      <td>690.000000</td>\n",
       "    </tr>\n",
       "    <tr>\n",
       "      <th>mean</th>\n",
       "      <td>0.004322</td>\n",
       "      <td>0.837201</td>\n",
       "      <td>0.160233</td>\n",
       "      <td>1.249859</td>\n",
       "      <td>0.626439</td>\n",
       "      <td>0.320865</td>\n",
       "      <td>0.011367</td>\n",
       "      <td>0.042101</td>\n",
       "      <td>0.831824</td>\n",
       "      <td>1.455601</td>\n",
       "      <td>8.452451</td>\n",
       "      <td>0.390194</td>\n",
       "      <td>0.000097</td>\n",
       "    </tr>\n",
       "    <tr>\n",
       "      <th>std</th>\n",
       "      <td>0.048924</td>\n",
       "      <td>1.691110</td>\n",
       "      <td>0.722057</td>\n",
       "      <td>2.911948</td>\n",
       "      <td>1.595260</td>\n",
       "      <td>0.736631</td>\n",
       "      <td>0.122091</td>\n",
       "      <td>0.232195</td>\n",
       "      <td>1.805067</td>\n",
       "      <td>3.365127</td>\n",
       "      <td>11.532599</td>\n",
       "      <td>0.488043</td>\n",
       "      <td>0.002551</td>\n",
       "    </tr>\n",
       "    <tr>\n",
       "      <th>min</th>\n",
       "      <td>0.000000</td>\n",
       "      <td>0.000000</td>\n",
       "      <td>0.000000</td>\n",
       "      <td>0.000000</td>\n",
       "      <td>0.000000</td>\n",
       "      <td>0.000000</td>\n",
       "      <td>0.000000</td>\n",
       "      <td>0.000000</td>\n",
       "      <td>0.000000</td>\n",
       "      <td>0.000000</td>\n",
       "      <td>0.000000</td>\n",
       "      <td>0.000000</td>\n",
       "      <td>0.000000</td>\n",
       "    </tr>\n",
       "    <tr>\n",
       "      <th>25%</th>\n",
       "      <td>0.000000</td>\n",
       "      <td>0.000000</td>\n",
       "      <td>0.000000</td>\n",
       "      <td>0.000000</td>\n",
       "      <td>0.000000</td>\n",
       "      <td>0.000000</td>\n",
       "      <td>0.000000</td>\n",
       "      <td>0.000000</td>\n",
       "      <td>0.000000</td>\n",
       "      <td>0.000000</td>\n",
       "      <td>1.483217</td>\n",
       "      <td>0.000000</td>\n",
       "      <td>0.000000</td>\n",
       "    </tr>\n",
       "    <tr>\n",
       "      <th>50%</th>\n",
       "      <td>0.000000</td>\n",
       "      <td>0.114950</td>\n",
       "      <td>0.000000</td>\n",
       "      <td>0.119533</td>\n",
       "      <td>0.000850</td>\n",
       "      <td>0.000000</td>\n",
       "      <td>0.000000</td>\n",
       "      <td>0.000000</td>\n",
       "      <td>0.000000</td>\n",
       "      <td>0.344750</td>\n",
       "      <td>4.289367</td>\n",
       "      <td>0.000000</td>\n",
       "      <td>0.000000</td>\n",
       "    </tr>\n",
       "    <tr>\n",
       "      <th>75%</th>\n",
       "      <td>0.000000</td>\n",
       "      <td>0.982042</td>\n",
       "      <td>0.000000</td>\n",
       "      <td>1.253567</td>\n",
       "      <td>0.596375</td>\n",
       "      <td>0.345658</td>\n",
       "      <td>0.000000</td>\n",
       "      <td>0.000000</td>\n",
       "      <td>0.552850</td>\n",
       "      <td>1.484425</td>\n",
       "      <td>9.817567</td>\n",
       "      <td>1.000000</td>\n",
       "      <td>0.000000</td>\n",
       "    </tr>\n",
       "    <tr>\n",
       "      <th>max</th>\n",
       "      <td>0.842483</td>\n",
       "      <td>16.950950</td>\n",
       "      <td>12.073300</td>\n",
       "      <td>37.342950</td>\n",
       "      <td>23.217867</td>\n",
       "      <td>8.447083</td>\n",
       "      <td>2.883783</td>\n",
       "      <td>2.559183</td>\n",
       "      <td>12.416417</td>\n",
       "      <td>45.314000</td>\n",
       "      <td>74.173183</td>\n",
       "      <td>1.000000</td>\n",
       "      <td>0.067000</td>\n",
       "    </tr>\n",
       "  </tbody>\n",
       "</table>\n",
       "</div>"
      ],
      "text/plain": [
       "         Activate   Breakdown   Challenge  Energy_History  Energy_Reports  \\\n",
       "count  979.000000  979.000000  979.000000      979.000000      979.000000   \n",
       "mean     0.004322    0.837201    0.160233        1.249859        0.626439   \n",
       "std      0.048924    1.691110    0.722057        2.911948        1.595260   \n",
       "min      0.000000    0.000000    0.000000        0.000000        0.000000   \n",
       "25%      0.000000    0.000000    0.000000        0.000000        0.000000   \n",
       "50%      0.000000    0.114950    0.000000        0.119533        0.000850   \n",
       "75%      0.000000    0.982042    0.000000        1.253567        0.596375   \n",
       "max      0.842483   16.950950   12.073300       37.342950       23.217867   \n",
       "\n",
       "             Feed  Forgot_password       Other    Settings       Trend  \\\n",
       "count  979.000000       979.000000  979.000000  979.000000  979.000000   \n",
       "mean     0.320865         0.011367    0.042101    0.831824    1.455601   \n",
       "std      0.736631         0.122091    0.232195    1.805067    3.365127   \n",
       "min      0.000000         0.000000    0.000000    0.000000    0.000000   \n",
       "25%      0.000000         0.000000    0.000000    0.000000    0.000000   \n",
       "50%      0.000000         0.000000    0.000000    0.000000    0.344750   \n",
       "75%      0.345658         0.000000    0.000000    0.552850    1.484425   \n",
       "max      8.447083         2.883783    2.559183   12.416417   45.314000   \n",
       "\n",
       "       total-pw-setting      Target   Right_Now  \n",
       "count        289.000000  979.000000  690.000000  \n",
       "mean           8.452451    0.390194    0.000097  \n",
       "std           11.532599    0.488043    0.002551  \n",
       "min            0.000000    0.000000    0.000000  \n",
       "25%            1.483217    0.000000    0.000000  \n",
       "50%            4.289367    0.000000    0.000000  \n",
       "75%            9.817567    1.000000    0.000000  \n",
       "max           74.173183    1.000000    0.067000  "
      ]
     },
     "execution_count": 324,
     "metadata": {},
     "output_type": "execute_result"
    }
   ],
   "source": [
    "df=pd.DataFrame()\n",
    "df=pd.concat([df_target_jun18,df_target_jul18], sort=False)\n",
    "df.describe()"
   ]
  },
  {
   "cell_type": "code",
   "execution_count": null,
   "metadata": {},
   "outputs": [],
   "source": []
  },
  {
   "cell_type": "code",
   "execution_count": null,
   "metadata": {},
   "outputs": [],
   "source": []
  }
 ],
 "metadata": {
  "kernelspec": {
   "display_name": "stan_env",
   "language": "python",
   "name": "stan_env"
  },
  "language_info": {
   "codemirror_mode": {
    "name": "ipython",
    "version": 3
   },
   "file_extension": ".py",
   "mimetype": "text/x-python",
   "name": "python",
   "nbconvert_exporter": "python",
   "pygments_lexer": "ipython3",
   "version": "3.6.8"
  }
 },
 "nbformat": 4,
 "nbformat_minor": 2
}
